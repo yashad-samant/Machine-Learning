{
 "cells": [
  {
   "cell_type": "markdown",
   "metadata": {},
   "source": [
    "$\\newcommand{\\xv}{\\mathbf{x}}\n",
    "\\newcommand{\\Xv}{\\mathbf{X}}\n",
    "\\newcommand{\\yv}{\\mathbf{y}}\n",
    "\\newcommand{\\zv}{\\mathbf{z}}\n",
    "\\newcommand{\\av}{\\mathbf{a}}\n",
    "\\newcommand{\\Wv}{\\mathbf{W}}\n",
    "\\newcommand{\\wv}{\\mathbf{w}}\n",
    "\\newcommand{\\tv}{\\mathbf{t}}\n",
    "\\newcommand{\\Tv}{\\mathbf{T}}\n",
    "\\newcommand{\\muv}{\\boldsymbol{\\mu}}\n",
    "\\newcommand{\\sigmav}{\\boldsymbol{\\sigma}}\n",
    "\\newcommand{\\phiv}{\\boldsymbol{\\phi}}\n",
    "\\newcommand{\\Phiv}{\\boldsymbol{\\Phi}}\n",
    "\\newcommand{\\Sigmav}{\\boldsymbol{\\Sigma}}\n",
    "\\newcommand{\\Lambdav}{\\boldsymbol{\\Lambda}}\n",
    "\\newcommand{\\half}{\\frac{1}{2}}\n",
    "\\newcommand{\\argmax}[1]{\\underset{#1}{\\operatorname{argmax}}}\n",
    "\\newcommand{\\argmin}[1]{\\underset{#1}{\\operatorname{argmin}}}$"
   ]
  },
  {
   "cell_type": "markdown",
   "metadata": {},
   "source": [
    "# Assignment 2: Ridge Regression with K-Fold Cross-Validation"
   ]
  },
  {
   "cell_type": "markdown",
   "metadata": {},
   "source": [
    "Yashad Samant"
   ]
  },
  {
   "cell_type": "markdown",
   "metadata": {},
   "source": [
    "## Overview"
   ]
  },
  {
   "cell_type": "markdown",
   "metadata": {},
   "source": [
    "\n",
    "In this assignment, we have implemented ridge regression rather than linear regression, along with K-fold Cross-Validation. Ridge regression is nothing but a modified version linear regression where we add an extra parameter lambda in the train function. When lambda is 0, it is nothing but linear regression. While we have calculated root mean square error for each lambda, we have repeated it multiple times to reduce the error. The higher the folds, the lesser will be the error. Now what we are interested in is the minimal error and we have found the corresponding less error for each and every fold and stored in single array result_final. When we observe this array, we find that we find the lowest error for lambda equal to 0.         \n",
    "\n",
    "\n"
   ]
  },
  {
   "cell_type": "markdown",
   "metadata": {},
   "source": [
    "## Method"
   ]
  },
  {
   "cell_type": "markdown",
   "metadata": {},
   "source": [
    "1. import libraries\n",
    "2. Defining train, use and rmse function. \n",
    "    a. Train fuction is modified, extra parameter lambda is added. We use lambda to calculate weights, when its 0, weights are          equivalent to one in linear regression method.\n",
    "    b. Use function is same as one used in linear regression and so is rmse.\n",
    "3. We have defined a K-fold function which calculates the error multiple times with multiple lambdas and this is repeated for      folds * folds-1 times. The larger the number of folds, lesser is the error. For each fold, we have divided data into train,      test and validate and all three are different for different folds.\n",
    "4. Lastly, we have multiple lambdas function where we have calculated rmses for test, train and validate sets for different        folds and saved it in a single array. But our objective is to find the minimum error and also find the corresponding lambda.    We find it using the min function and store it in a different array and return it to main program.   "
   ]
  },
  {
   "cell_type": "code",
   "execution_count": 1,
   "metadata": {
    "collapsed": true
   },
   "outputs": [],
   "source": [
    "#Libraries\n",
    "import numpy as np\n",
    "import matplotlib.pyplot as plt\n",
    "%matplotlib inline"
   ]
  },
  {
   "cell_type": "code",
   "execution_count": 2,
   "metadata": {
    "collapsed": false
   },
   "outputs": [],
   "source": [
    "#Train, Use & Rmse functions\n",
    "def train(X,T,lamb):\n",
    "    means = X.mean(0)\n",
    "    stds = X.std(0)\n",
    "    n,d = X.shape\n",
    "    Xs1 = np.insert( (X - means)/stds, 0, 1, axis=1)\n",
    "    lambDiag = np.eye(d+1) * lamb\n",
    "    lambDiag[0,0] = 0\n",
    "    w = np.linalg.lstsq( Xs1.T.dot(Xs1) + lambDiag, Xs1.T.dot(T))[0]\n",
    "    return {'w': w, 'means':means, 'stds':stds}\n",
    "\n",
    "def use(X,model):\n",
    "    Xs1 = np.insert((X-model['means'])/model['stds'], 0, 1, axis=1)\n",
    "    return Xs1.dot(model['w'])\n",
    "\n",
    "def rmse(A,B):\n",
    "    return np.sqrt(np.mean( (A-B)**2 ))"
   ]
  },
  {
   "cell_type": "code",
   "execution_count": 3,
   "metadata": {
    "collapsed": false
   },
   "outputs": [],
   "source": [
    "# K-Fold Cross-Validation\n",
    "def partitionKFolds(X,T,nFolds,shuffle=True,nPartitions=3):\n",
    "    '''Usage: for Xtrain,Ttrain,Xval,Tval,Xtest,Ttext in partitionKFolds(X,T,5):'''\n",
    "    # Randomly arrange row indices\n",
    "    rowIndices = np.arange(X.shape[0])\n",
    "    if shuffle:\n",
    "        np.random.shuffle(rowIndices)\n",
    "    # Calculate number of samples in each of the nFolds folds\n",
    "    nSamples = X.shape[0]\n",
    "    nEach = int(nSamples / nFolds)\n",
    "    if nEach == 0:\n",
    "        raise ValueError(\"partitionKFolds: Number of samples in each fold is 0.\")\n",
    "    # Calculate the starting and stopping row index for each fold.\n",
    "    # Store in startsStops as list of (start,stop) pairs\n",
    "    starts = np.arange(0,nEach*nFolds,nEach)\n",
    "    stops = starts + nEach\n",
    "    stops[-1] = nSamples\n",
    "    startsStops = list(zip(starts,stops))\n",
    "    # Repeat with testFold taking each single fold, one at a time\n",
    "    for testFold in range(nFolds):\n",
    "        if nPartitions == 3:\n",
    "            # Repeat with validateFold taking each single fold, except for the testFold\n",
    "            for validateFold in range(nFolds):\n",
    "                if testFold == validateFold:\n",
    "                    continue\n",
    "                # trainFolds are all remaining folds, after selecting test and validate folds\n",
    "                trainFolds = np.setdiff1d(range(nFolds), [testFold,validateFold])\n",
    "                # Construct Xtrain and Ttrain by collecting rows for all trainFolds\n",
    "                rows = []\n",
    "                for tf in trainFolds:\n",
    "                    a,b = startsStops[tf]                \n",
    "                    rows += rowIndices[a:b].tolist()\n",
    "                Xtrain = X[rows,:]\n",
    "                Ttrain = T[rows,:]\n",
    "                # Construct Xvalidate and Tvalidate\n",
    "                a,b = startsStops[validateFold]\n",
    "                rows = rowIndices[a:b]\n",
    "                Xvalidate = X[rows,:]\n",
    "                Tvalidate = T[rows,:]\n",
    "                # Construct Xtest and Ttest\n",
    "                a,b = startsStops[testFold]\n",
    "                rows = rowIndices[a:b]\n",
    "                Xtest = X[rows,:]\n",
    "                Ttest = T[rows,:]\n",
    "                # Return partition matrices, then suspend until called again.\n",
    "                yield Xtrain,Ttrain,Xvalidate,Tvalidate,Xtest,Ttest,testFold\n",
    "        else:\n",
    "            # trainFolds are all remaining folds, after selecting test and validate folds\n",
    "            trainFolds = np.setdiff1d(range(nFolds), [testFold])\n",
    "            # Construct Xtrain and Ttrain by collecting rows for all trainFolds\n",
    "            rows = []\n",
    "            for tf in trainFolds:\n",
    "                a,b = startsStops[tf]                \n",
    "                rows += rowIndices[a:b].tolist()\n",
    "            Xtrain = X[rows,:]\n",
    "            Ttrain = T[rows,:]\n",
    "            # Construct Xtest and Ttest\n",
    "            a,b = startsStops[testFold]\n",
    "            rows = rowIndices[a:b]\n",
    "            Xtest = X[rows,:]\n",
    "            Ttest = T[rows,:]\n",
    "            # Return partition matrices, then suspend until called again.\n",
    "            yield Xtrain,Ttrain,Xtest,Ttest,testFold"
   ]
  },
  {
   "cell_type": "code",
   "execution_count": 4,
   "metadata": {
    "collapsed": false
   },
   "outputs": [],
   "source": [
    "# Calculating rmse for multiple lambda and output lambdas with minimum error\n",
    "def multipleLambdas(X, T, nFolds, lambdas):\n",
    "   result = []\n",
    "   result_final = []\n",
    "   global i \n",
    "   i = []\n",
    "   \n",
    "\n",
    "   for x in range (nFolds*(nFolds-1)):\n",
    "    i.append([x]) \n",
    "   i = np.array(i)\n",
    " \n",
    "   for Xtrain,Ttrain,Xval,Tval,Xtest,Ttest,_ in partitionKFolds(X,T,nFolds):\n",
    "        for lamb in lambdas:\n",
    "            model = train(Xtrain,Ttrain,lamb)\n",
    "            predict = use(Xval,model)\n",
    "            result.append([lamb,\n",
    "                        rmse(use(Xtrain,model),Ttrain),\n",
    "                        rmse(use(Xval,model),Tval),\n",
    "                        rmse(use(Xtest,model),Ttest)])\n",
    "    \n",
    "        result_final.append(np.min(result,axis = 0))   \n",
    "   result_final = np.array(result_final)\n",
    "   result_final = np.hstack((i,result_final))\n",
    "   return result_final"
   ]
  },
  {
   "cell_type": "markdown",
   "metadata": {},
   "source": [
    "Your results will not be identical to the example above.  In fact, your results will differ each time you run these cells because the `partitionKFolds` function shuffles the order of the samples before forming the partitions."
   ]
  },
  {
   "cell_type": "markdown",
   "metadata": {},
   "source": [
    "## Data"
   ]
  },
  {
   "cell_type": "markdown",
   "metadata": {},
   "source": [
    "Data used in this problem is from University of California, Irvine Machine learning repository. It is segmented among the categorical data with 14 attributes. The attributes are as follows -:\n",
    "\n",
    "    1. CRIM      per capita crime rate by town\n",
    "    2. ZN        proportion of residential land zoned for lots over \n",
    "                 25,000 sq.ft.\n",
    "    3. INDUS     proportion of non-retail business acres per town\n",
    "    4. CHAS      Charles River dummy variable (= 1 if tract bounds \n",
    "                 river; 0 otherwise)\n",
    "    5. NOX       nitric oxides concentration (parts per 10 million)\n",
    "    6. RM        average number of rooms per dwelling\n",
    "    7. AGE       proportion of owner-occupied units built prior to 1940\n",
    "    8. DIS       weighted distances to five Boston employment centres\n",
    "    9. RAD       index of accessibility to radial highways\n",
    "    10.TAX      full-value property-tax rate per $10,000\n",
    "    11. PTRATIO  pupil-teacher ratio by town\n",
    "    12. B        1000(Bk - 0.63)^2 where Bk is the proportion of blacks \n",
    "                 by town\n",
    "    13. LSTAT    % lower status of the population\n",
    "    14. MEDV     Median value of owner-occupied homes in $1000's\n"
   ]
  },
  {
   "cell_type": "code",
   "execution_count": 5,
   "metadata": {
    "collapsed": false
   },
   "outputs": [
    {
     "data": {
      "image/png": "[encoded data removed]",
      "text/plain": [
       "<matplotlib.figure.Figure at 0x6b440f0>"
      ]
     },
     "metadata": {},
     "output_type": "display_data"
    }
   ],
   "source": [
    "# Data same as A1\n",
    "data = np.loadtxt(\"C:/Users/Yashad/Desktop/Books/machine learning/housing.data\")\n",
    "\n",
    "names =  ['CRIM','ZN','INDUS','CHAS','NOX',\n",
    "          'RM','AGE','DIS','RAD','TAX','PTRATIO','B','LSTAT','MEDV']\n",
    "\n",
    "#Separating TAX & storing in variable T\n",
    "T = data[:, [9]] \n",
    "X = data[:, [0,1,2,3,4,5,6,7,8,10,11,12,13]] \n",
    "\n",
    "Xnames = ['CRIM','ZN','INDUS','CHAS', 'NOX',\n",
    "          'RM','AGE','DIS','RAD','PTRATIO','B','LSTAT','MEDV']  \n",
    "Tname = names[9] # Assigning TAX to Tname\n",
    "Xnames.insert(0, 'bias') # adding bias column(ones) \n",
    "\n",
    "#Plotting tax with respect to other elements to check dependence\n",
    "plt.figure(figsize=(10,10))\n",
    "nrow,ncol = X.shape\n",
    "for c in range(ncol):\n",
    "    plt.subplot(4,4, c+1)\n",
    "    plt.plot(X[:,c],T,'o')\n",
    "    plt.ylabel(Xnames[c])\n",
    "    plt.xlabel(Tname)"
   ]
  },
  {
   "cell_type": "markdown",
   "metadata": {},
   "source": [
    "## Results"
   ]
  },
  {
   "cell_type": "code",
   "execution_count": null,
   "metadata": {
    "collapsed": true
   },
   "outputs": [],
   "source": []
  },
  {
   "cell_type": "code",
   "execution_count": 6,
   "metadata": {
    "collapsed": false
   },
   "outputs": [
    {
     "name": "stdout",
     "output_type": "stream",
     "text": [
      "[[   0.            0.           56.0118044    48.67039804   55.56954182]\n",
      " [   1.            0.           55.88885121   48.67039804   55.56954182]\n",
      " [   2.            0.           54.7192637    48.67039804   55.56954182]\n",
      " ..., \n",
      " [ 207.            0.           52.01824197   34.88394487   34.88394487]\n",
      " [ 208.            0.           52.01824197   34.88394487   34.88394487]\n",
      " [ 209.            0.           52.01824197   34.88394487   34.88394487]]\n"
     ]
    },
    {
     "data": {
      "image/png": "[encoded data removed]",
      "text/plain": [
       "<matplotlib.figure.Figure at 0x48e42b0>"
      ]
     },
     "metadata": {},
     "output_type": "display_data"
    }
   ],
   "source": [
    "# Plotting result\n",
    "results = multipleLambdas(X,T,15,range(0,40,5))\n",
    "print(results)\n",
    "\n",
    "\n",
    "plt.plot(results[:,0],results[:,2:],'o-')\n",
    "plt.xlabel('Folds')\n",
    "plt.ylabel('RMSE')\n",
    "plt.legend(('Train','Validate','Test'),loc='best');"
   ]
  },
  {
   "cell_type": "code",
   "execution_count": 7,
   "metadata": {
    "collapsed": false
   },
   "outputs": [
    {
     "data": {
      "image/png": "[encoded data removed]",
      "text/plain": [
       "<matplotlib.figure.Figure at 0x7e24828>"
      ]
     },
     "metadata": {},
     "output_type": "display_data"
    }
   ],
   "source": [
    "plt.hist(results[:,1]);"
   ]
  },
  {
   "cell_type": "markdown",
   "metadata": {},
   "source": [
    "## Grading\n",
    "\n",
    "Your notebook will be run and graded automatically.  After running all of the above cells in your notebook, run the code in the following cell to demonstrate an example grading session.  You should see a perfect score of 80/100 if your functions are defined correctly.  The remaining 20% will be based on the instructors reading of your notebooks.  We will be looking for how well the method is explained in text with some LaTeX math, and how well the results are summarized.\n",
    "\n",
    "As before, first download and extract from [A2grader.tar](http://www.cs.colostate.edu/~anderson/cs\n",
    "480/notebooks/A2grader.tar) "
   ]
  },
  {
   "cell_type": "code",
   "execution_count": 8,
   "metadata": {
    "collapsed": false
   },
   "outputs": [
    {
     "name": "stdout",
     "output_type": "stream",
     "text": [
      " Testing:\n",
      "X = np.arange(20).reshape((-1,1))\n",
      "T = np.abs(X -10) + X\n",
      "for Xtrain,Ttrain,Xval,Tval,Xtest,Ttest,_ in partitionKFolds(X,T,5,shuffle=False,nPartitions=3)\n",
      "20/20 points. partitionKFolds produced 20 partitions. Correct.\n",
      "10/10 points. Final training set contains 12 samples. Correct.\n",
      "10/10 points. Final validation set contains 4 samples. Correct.\n",
      "Testing:\n",
      "X = np.linspace(0,100,1000).reshape((-1,1))\n",
      "T = X * 0.1\n",
      "results = multipleLambdas(X,T,4,range(0,10))\n",
      "20/20 points. All best lambdas are 0.  Correct.\n",
      "20/20 points. Mean of all train, validation and test errors for best lambda are correct.\n",
      "\n",
      "C:\\Users\\Yashad\\Desktop\\Books\\machine learning Grade is 80/100\n",
      "Up to 20 more points will be given based on the qualty of your descriptions of the method and the results.\n"
     ]
    }
   ],
   "source": [
    "%run -i \"A2grader.py\""
   ]
  },
  {
   "cell_type": "markdown",
   "metadata": {},
   "source": [
    "## Check-in"
   ]
  },
  {
   "cell_type": "markdown",
   "metadata": {},
   "source": [
    "Do not include this section in your notebook.\n",
    "\n",
    "Name your notebook ```Lastname-A2.ipynb```.  So, for me it would be ```Anderson-A2.ipynb```.  Submit the file using the ```Assignment 2``` link on [Canvas](https://colostate.instructure.com/courses/41327).\n",
    "\n",
    "Grading will be based on \n",
    "\n",
    "  * correct behavior of the three functions listed above,\n",
    "  * easy to understand plots in your notebook\n",
    "  * readability of the notebook,\n",
    "  * effort in making interesting observations, and in formatting your notebook."
   ]
  },
  {
   "cell_type": "code",
   "execution_count": null,
   "metadata": {
    "collapsed": true
   },
   "outputs": [],
   "source": []
  }
 ],
 "metadata": {
  "anaconda-cloud": {},
  "kernelspec": {
   "display_name": "Python [conda root]",
   "language": "python",
   "name": "conda-root-py"
  },
  "language_info": {
   "codemirror_mode": {
    "name": "ipython",
    "version": 3
   },
   "file_extension": ".py",
   "mimetype": "text/x-python",
   "name": "python",
   "nbconvert_exporter": "python",
   "pygments_lexer": "ipython3",
   "version": "3.5.2"
  }
 },
 "nbformat": 4,
 "nbformat_minor": 0
}
