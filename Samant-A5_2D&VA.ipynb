{
 "cells": [
  {
   "cell_type": "markdown",
   "metadata": {},
   "source": [
    "# Table of Contents\n",
    "* [Assignment 5: Control a Marble with Reinforcement Learning](#Assignment-5:-Control-a-Marble-with-Reinforcement-Learning)\n",
    "\t* [Overview](#Overview)\n",
    "\t* [Start with This Code](#Start-with-This-Code)\n",
    "\t* [Requirements](#Requirements)\n",
    "\t* [Grading](#Grading)\n",
    "\t* [Extra Credit](#Extra-Credit)\n",
    "\t* [Check-in](#Check-in)\n"
   ]
  },
  {
   "cell_type": "markdown",
   "metadata": {},
   "source": [
    "$\\newcommand{\\xv}{\\mathbf{x}}\n",
    "\\newcommand{\\Xv}{\\mathbf{X}}\n",
    "\\newcommand{\\yv}{\\mathbf{y}}\n",
    "\\newcommand{\\zv}{\\mathbf{z}}\n",
    "\\newcommand{\\av}{\\mathbf{a}}\n",
    "\\newcommand{\\Wv}{\\mathbf{W}}\n",
    "\\newcommand{\\wv}{\\mathbf{w}}\n",
    "\\newcommand{\\tv}{\\mathbf{t}}\n",
    "\\newcommand{\\Tv}{\\mathbf{T}}\n",
    "\\newcommand{\\muv}{\\boldsymbol{\\mu}}\n",
    "\\newcommand{\\sigmav}{\\boldsymbol{\\sigma}}\n",
    "\\newcommand{\\phiv}{\\boldsymbol{\\phi}}\n",
    "\\newcommand{\\Phiv}{\\boldsymbol{\\Phi}}\n",
    "\\newcommand{\\Sigmav}{\\boldsymbol{\\Sigma}}\n",
    "\\newcommand{\\Lambdav}{\\boldsymbol{\\Lambda}}\n",
    "\\newcommand{\\half}{\\frac{1}{2}}\n",
    "\\newcommand{\\argmax}[1]{\\underset{#1}{\\operatorname{argmax}}}\n",
    "\\newcommand{\\argmin}[1]{\\underset{#1}{\\operatorname{argmin}}}$"
   ]
  },
  {
   "cell_type": "markdown",
   "metadata": {},
   "source": [
    "# Assignment 5: Control a Marble with Reinforcement Learning"
   ]
  },
  {
   "cell_type": "markdown",
   "metadata": {},
   "source": [
    "Yashad Samant"
   ]
  },
  {
   "cell_type": "markdown",
   "metadata": {},
   "source": [
    "## Overview"
   ]
  },
  {
   "cell_type": "markdown",
   "metadata": {},
   "source": [
    "In the main assignment, we implemented code to train Q values for all goals. But, here we have to design a 2D environment with 7 valid actions instead of 3. "
   ]
  },
  {
   "cell_type": "markdown",
   "metadata": {},
   "source": [
    "## Start with This Code"
   ]
  },
  {
   "cell_type": "markdown",
   "metadata": {},
   "source": [
    "Download [A5.tar](http://www.cs.colostate.edu/~anderson/cs480/notebooks/A5.tar) and extract its contents, which are\n",
    "\n",
    "* `marble.py`\n",
    "* `neuralnetworksbylayer.py`\n",
    "* `layers.py`\n",
    "* `scaledconjugategradient.py`\n",
    "* `mlutils.py`"
   ]
  },
  {
   "cell_type": "code",
   "execution_count": 2,
   "metadata": {
    "collapsed": true
   },
   "outputs": [],
   "source": [
    "import neuralnetworksbylayer as nn\n",
    "import numpy as np\n",
    "import matplotlib.pyplot as plt\n",
    "from IPython.display import display, clear_output\n",
    "from mpl_toolkits.mplot3d import Axes3D\n",
    "from matplotlib import cm\n",
    "import copy\n",
    "import math\n",
    "\n",
    "%matplotlib inline"
   ]
  },
  {
   "cell_type": "markdown",
   "metadata": {},
   "source": [
    "To define a reinforcement learning problem, we need functions that return\n",
    "\n",
    "* initial the state of the environment,\n",
    "* a next state given a current state and an action,\n",
    "* a reinforcement value, and\n",
    "* an action to take, given the current state. For this we define an $\\epsilon$-greedy policy.\n",
    "\n",
    "Let's first define the set of valid actions.  For our simple one-dimensional marble problem, we can push left, right, or not push at all."
   ]
  },
  {
   "cell_type": "markdown",
   "metadata": {},
   "source": [
    "### METHOD"
   ]
  },
  {
   "cell_type": "markdown",
   "metadata": {},
   "source": [
    "2D environment\n",
    "To design a 2D environment, I made two samples one in x direction and other in y direction. So if we combine the two coordinates we can find the path of the marble in two dimensional array. I have plotted the trajectory of the marble depending on the next state values.\n",
    "\n",
    "Valid actions\n",
    "When we design a 2D environment, it becomes difficult to stick to only three valid actions. Thus, I have added four more ranging from -3 to 3 in steps of 1 and labelled them. As I have values coming in from two different dimensions, I have combined the output of two axis using the equation *3x - y* giving me a suitable valid action between -3 to 3. When we try to find the relation between axis and valid actions, this turns out to be the most suitable linear equation.  "
   ]
  },
  {
   "cell_type": "code",
   "execution_count": 10,
   "metadata": {
    "collapsed": false
   },
   "outputs": [
    {
     "name": "stdout",
     "output_type": "stream",
     "text": [
      "8\n"
     ]
    }
   ],
   "source": [
    "validActions = np.array([(-1,-1),(-1,0),(-1,1),(0,-1),(0,1),(1,-1),(1,0),(1,1)])\n",
    "print(validActions.shape[0])"
   ]
  },
  {
   "cell_type": "code",
   "execution_count": 32,
   "metadata": {
    "collapsed": false
   },
   "outputs": [],
   "source": [
    "validActions = np.array([-1,0,1])\n",
    "\n",
    "def initialState():\n",
    "    return np.array([10*np.random.random_sample(), 3*(0.5-np.random.random_sample())])\n",
    "\n",
    "def nextState(s,a):\n",
    "    s = copy.copy(s)   # s[0] is position, s[1] is velocity. a is -1, 0 or 1\n",
    "    deltaT = 0.1                           # Euler integration time step\n",
    "    s[0] += deltaT * s[1]                  # Update position\n",
    "    s[1] += deltaT * (2 * a - 0.2 * s[1])  # Update velocity. Includes friction\n",
    "    if s[0] < 0:        # Bound next position. If at limits, set velocity to 0.\n",
    "        s = np.array([0,0])\n",
    "    elif s[0] > 10:\n",
    "        s = np.array([10,0])   \n",
    "    return s\n",
    "\n",
    "def reinforcement(s):  # s is new state\n",
    "    goal = 5\n",
    "    return 0 if abs(s[0]-goal) < 1 else -0.1\n",
    "\n",
    "def policy(qnet, state, epsilon):\n",
    "    if np.random.rand(1) < epsilon:\n",
    "        actioni = np.random.randint(validActions.shape[0])\n",
    "    else:\n",
    "        inputs = np.hstack(( np.tile(state, (validActions.shape[0], 1)), validActions.reshape((-1,1))))\n",
    "        \n",
    "        qs = qnet.use(inputs)\n",
    "        actioni = np.argmax(qs)\n",
    "    return validActions[actioni]"
   ]
  },
  {
   "cell_type": "markdown",
   "metadata": {},
   "source": [
    "Now we need a function to generate a bunch of samples that are interactions with the marble."
   ]
  },
  {
   "cell_type": "code",
   "execution_count": 33,
   "metadata": {
    "collapsed": true
   },
   "outputs": [],
   "source": [
    "def makeSamples(qnet, nStepsPerStart,i):\n",
    "    samples = []\n",
    "    \n",
    "    state = initialState()\n",
    "    act = policy(qnet, state, epsilon)\n",
    "    oldact = act\n",
    "    for iStep in range(nStepsPerStart):\n",
    "        newState = nextState(state, act)\n",
    "        r = reinforcement(newState)\n",
    "        newAct = policy(qnet, newState, epsilon)\n",
    "        # SARSA\n",
    "        samples.append(state.tolist() + [act, r] + newState.tolist() + [newAct])\n",
    "        state = newState\n",
    "        oldact = act\n",
    "        act = newAct\n",
    "    return np.array(samples)"
   ]
  },
  {
   "cell_type": "markdown",
   "metadata": {},
   "source": [
    "Now we can play.  Define constants we need."
   ]
  },
  {
   "cell_type": "code",
   "execution_count": 34,
   "metadata": {
    "collapsed": true
   },
   "outputs": [],
   "source": [
    "def plotStatus(qnet, X, R, trial, epsilonTrace, rtrace):\n",
    "    plt.subplot(4,3,1)\n",
    "    plt.plot(epsilonTrace[:trial+1])\n",
    "    plt.ylabel(\"Random Action Probability ($\\epsilon$)\")\n",
    "    plt.ylim(0,1)\n",
    "    plt.subplot(4,3,2)\n",
    "    plt.plot(X[:,0])\n",
    "    plt.plot([0,X.shape[0]], [5,5],'--',alpha=0.5,lw=5)\n",
    "    plt.ylabel(\"$x$\")\n",
    "    plt.ylim(-1,11)\n",
    "    #qs = [[qnet.use([s,0,a]) for a in actions] for s in range(11)]\n",
    "    qs = qnet.use(np.array([[s,0,a] for a in validActions for s in range(11)]))\n",
    "    #print np.hstack((qs,-1+np.argmax(qs,axis=1).reshape((-1,1))))\n",
    "    plt.subplot(4,3,3)\n",
    "    acts = [\"EL\",\"L\",\"SL\",\"0\",\"SR\",\"R\",\"ER\"]\n",
    "    actsiByState = np.argmax(qs.reshape((len(validActions),-1)),axis=0)\n",
    "    for i in range(11):\n",
    "        plt.text(i,0,acts[actsiByState[i]])\n",
    "        plt.xlim(-1,11)\n",
    "        plt.ylim(-1,1)\n",
    "    plt.text(2,0.2,\"Policy for Zero Velocity\")\n",
    "    plt.axis(\"off\")\n",
    "    plt.subplot(4,3,4)\n",
    "    plt.plot(rtrace[:trial+1],alpha=0.5)\n",
    "    #plt.plot(np.convolve(rtrace[:trial+1],np.array([0.02]*50),mode='valid'))\n",
    "    binSize = 20\n",
    "    if trial+1 > binSize:\n",
    "        # Calculate mean of every bin of binSize reinforcement values\n",
    "        smoothed = np.mean(rtrace[:int(trial/binSize)*binSize].reshape((int(trial/binSize),binSize)),axis=1)\n",
    "        plt.plot(np.arange(1,1+int(trial/binSize))*binSize,smoothed)\n",
    "    plt.ylabel(\"Mean reinforcement\")\n",
    "    plt.subplot(4,3,5)\n",
    "    plt.plot(X[:,0],X[:,1])\n",
    "    plt.plot(X[0,0],X[0,1],'o')\n",
    "    plt.xlabel(\"$x$\")\n",
    "    plt.ylabel(\"$\\dot{x}$\")\n",
    "    plt.fill_between([4,6],[-5,-5],[5,5],color=\"red\",alpha=0.3)\n",
    "    plt.xlim(-1,11)\n",
    "    plt.ylim(-5,5)\n",
    "    plt.subplot(4,3,6)\n",
    "    qnet.draw([\"$x$\",\"$\\dot{x}$\",\"$a$\"],[\"Q\"])\n",
    "\n",
    "    plt.subplot(4,3,7)\n",
    "    n = 20\n",
    "    positions = np.linspace(0,10,n)\n",
    "    velocities =  np.linspace(-5,5,n)\n",
    "    xs,ys = np.meshgrid(positions,velocities)\n",
    "    #states = np.vstack((xs.flat,ys.flat)).T\n",
    "    #qs = [qnet.use(np.hstack((states,np.ones((states.shape[0],1))*act))) for act in actions]\n",
    "    xsflat = xs.flat\n",
    "    ysflat = ys.flat\n",
    "    qs = qnet.use(np.array([[xsflat[i],ysflat[i],a] for a in validActions for i in range(len(xsflat))]))\n",
    "    #qs = np.array(qs).squeeze().T\n",
    "    qs = qs.reshape((len(validActions),-1)).T\n",
    "    qsmax = np.max(qs,axis=1).reshape(xs.shape)\n",
    "    cs = plt.contourf(xs,ys,qsmax)\n",
    "    plt.colorbar(cs)\n",
    "    plt.xlabel(\"$x$\")\n",
    "    plt.ylabel(\"$\\dot{x}$\")\n",
    "    plt.title(\"Max Q\")\n",
    "    plt.subplot(4,3,8)\n",
    "    acts = np.array(validActions)[np.argmax(qs,axis=1)].reshape(xs.shape)\n",
    "    cs = plt.contourf(xs,ys,acts,[-2, -0.5, 0.5, 2])\n",
    "    plt.colorbar(cs)\n",
    "    plt.xlabel(\"$x$\")\n",
    "    plt.ylabel(\"$\\dot{x}$\")\n",
    "    plt.title(\"Actions\")\n",
    "\n",
    "    s = plt.subplot(4,3,10)\n",
    "    rect = s.get_position()\n",
    "    ax = Axes3D(plt.gcf(),rect=rect)\n",
    "    ax.plot_surface(xs,ys,qsmax,cstride=1,rstride=1,cmap=cm.viridis,linewidth=0)\n",
    "    ax.set_xlabel(\"$x$\")\n",
    "    ax.set_ylabel(\"$\\dot{x}$\")\n",
    "    #ax.set_zlabel(\"Max Q\")\n",
    "    plt.title(\"Max Q\")\n",
    "\n",
    "    s = plt.subplot(4,3,11)\n",
    "    rect = s.get_position()\n",
    "    ax = Axes3D(plt.gcf(),rect=rect)\n",
    "    ax.plot_surface(xs,ys,acts,cstride=1,rstride=1,cmap=cm.viridis,linewidth=0)\n",
    "    ax.set_xlabel(\"$x$\")\n",
    "    ax.set_ylabel(\"$\\dot{x}$\")\n",
    "    #ax.set_zlabel(\"Action\")\n",
    "    plt.title(\"Action\")\n",
    "\n",
    "def testIt(qnet,nTrials,nStepsPerTrial):\n",
    "    xs = np.linspace(0,10,nTrials)\n",
    "    plt.subplot(2,2,1)\n",
    "    for x in xs:\n",
    "        s = [x,0] ## 0 velocity\n",
    "        xtrace = np.zeros((nStepsPerTrial,2))\n",
    "        for step in range(nStepsPerTrial):\n",
    "            a = policy(qnet, s, 0.0)  # epsilon = 0\n",
    "            s = nextState(s,a)\n",
    "            xtrace[step,:] = s\n",
    "        plt.plot(xtrace[:,0],xtrace[:,1])\n",
    "        plt.xlim(-1,11)\n",
    "        plt.ylim(-5,5)\n",
    "        plt.plot([5,5],[-5,5],'--',alpha=0.5,lw=5)\n",
    "        plt.ylabel('$\\dot{x}$')\n",
    "        plt.xlabel('$x$')\n",
    "        plt.title('State Trajectories for $\\epsilon=0$')\n",
    "\n",
    "def process(samples, ns, na, epsilonDecay):\n",
    "    X = samples[:, :ns+na]    \n",
    "    R = samples[:, ns+na:ns+na+1]\n",
    "    nextX = samples[:, ns+na+1:]\n",
    "    nextQ = qnet.use(nextX)\n",
    "\n",
    "    qnet.train(X, R + gamma * nextQ, nIterations = nSCGIterations)\n",
    "\n",
    "    # Decay epsilon\n",
    "    epsilonDecay *= epsilonDecay\n",
    "    # epsilon = max(0.01, epsilon)\n",
    "\n",
    "    # Rest is for plotting\n",
    "    epsilonTrace[trial] = epsilon\n",
    "    rtrace[trial] = np.mean(R)\n",
    "    if trial % (nTrials//10) == 0 or trial == nTrials-1:\n",
    "        plt.clf()\n",
    "        #plotStatus(qnet, X, R, trial,epsilonTrace,rtrace)\n",
    "        testIt(qnet,10,500)\n",
    "\n",
    "        clear_output(wait=True)\n",
    "        display(fig);\n",
    "        plt.pause(0.01)"
   ]
  },
  {
   "cell_type": "code",
   "execution_count": 35,
   "metadata": {
    "collapsed": true
   },
   "outputs": [],
   "source": [
    "gamma = 0.999\n",
    "nTrials = 300\n",
    "nStepsPerTrial = 500 \n",
    "nSCGIterations = 30\n",
    "finalEpsilon = 0.01\n",
    "epsilonDecay = np.exp(np.log(finalEpsilon)/(nTrials))  # to produce this final value"
   ]
  },
  {
   "cell_type": "code",
   "execution_count": 36,
   "metadata": {
    "collapsed": false
   },
   "outputs": [
    {
     "data": {
      "text/plain": [
       "0.98476665211015812"
      ]
     },
     "execution_count": 36,
     "metadata": {},
     "output_type": "execute_result"
    }
   ],
   "source": [
    "epsilonDecay"
   ]
  },
  {
   "cell_type": "code",
   "execution_count": 37,
   "metadata": {
    "collapsed": true
   },
   "outputs": [],
   "source": [
    "nh = [10,10]\n",
    "qnet = nn.NeuralNetwork([3] + nh + [1])  # [3, 10, 10, 1]\n",
    "qnet.setInputRanges(( (0, 10), (-3, 3), (-1,1)))"
   ]
  },
  {
   "cell_type": "code",
   "execution_count": 41,
   "metadata": {
    "collapsed": false
   },
   "outputs": [
    {
     "data": {
      "image/png": "[encoded data removed]",
      "text/plain": [
       "<matplotlib.figure.Figure at 0x148beb4ad68>"
      ]
     },
     "metadata": {},
     "output_type": "display_data"
    }
   ],
   "source": [
    "fig = plt.figure(figsize=(15,15))\n",
    "epsilon = 1\n",
    "samples = []\n",
    "epsilonTrace = np.zeros(nTrials)\n",
    "rtrace = np.zeros(nTrials)\n",
    "\n",
    "for trial in range(nTrials):\n",
    "\n",
    "        # Collect nStepsPerRep samples of X, R, Qn, and Q, and update epsilon\n",
    "        samples_x = makeSamples(qnet, nStepsPerTrial,i)\n",
    "        samples_y = makeSamples(qnet, nStepsPerTrial,j)\n",
    "        samples.append([samples_x[0] , samples_y[0]] + [samples_x[1] , samples_y[1]] + [samples_x[2], samples_y[2]] + [samples_x[3], samples_y[3]] + [samples_x[4], samples_y[4]] + [samples_x[5], samples_y[5]] + [samples_x[6], samples_y[6]])\n",
    "        ns = 2\n",
    "        na = 1\n",
    "        process(samples_x, ns, na, epsilonDecay)\n",
    "        process(samples_y, ns, na, epsilonDecay)\n",
    "        plt.subplot(2,2,2)\n",
    "        plt.plot(samples_x[:,0],samples_y[:,1])\n",
    "        plt.plot(samples_x[0,0],samples_y[0,1],'o')\n",
    "        plt.xlim(-1,11)\n",
    "        plt.ylim(-1,11)\n",
    "        qs = qnet.use(np.array([[s,0,a] for a in validActions for s in range(11)]))\n",
    "        plt.subplot(2,2,3)\n",
    "        acts = [\"1\",\"2\",\"3\",\"4\",\"5\",\"6\",\"7\",\"8\",\"9\"]\n",
    "        actsiByState = np.argmax(qs.reshape((len(validActions),-1)),axis=0)\n",
    "        for i in range(11):\n",
    "                plt.text(i,0,acts[actsiByState[i]])\n",
    "                plt.xlim(-1,11)\n",
    "                plt.ylim(-1,1)\n",
    "        plt.text(2,0.2,\"Policy for Zero Velocity\")\n",
    "        plt.axis(\"off\")\n",
    "\n",
    "    # print('Trial',trial,'mean R',np.mean(R))\n",
    "clear_output(wait=True)"
   ]
  },
  {
   "cell_type": "markdown",
   "metadata": {},
   "source": [
    "### METHOD"
   ]
  },
  {
   "cell_type": "markdown",
   "metadata": {},
   "source": [
    "In this extra credit, I have implemented two parts-:\n",
    "* 2D environment\n",
    "* nine valid actions\n",
    "\n",
    "**2D environment**\n",
    "While implementing 2D environment, I find the samples separately in both x and y directions. So once we have obtained the samples, we can just combine x and y to obtain the required environment.\n",
    "\n",
    "**Valid Actions**\n",
    "As I found out the valid actions in x and y dimensions separately, we have 3 actions for each dimension. Thus, if we combine the two we get 9 valid actions"
   ]
  },
  {
   "cell_type": "markdown",
   "metadata": {},
   "source": [
    "## Grading"
   ]
  },
  {
   "cell_type": "markdown",
   "metadata": {},
   "source": [
    "To grade this notebook, we will run your complete notebook and read the results.  There is no automatic grading code for this notebook.  Do your best to show code and results you used to find good parameter values, to train your successful Q network, and to demonstrate that it is successful.\n",
    "\n",
    "Include text to explain what you did, how successful it was, and any problems you encountered."
   ]
  },
  {
   "cell_type": "markdown",
   "metadata": {},
   "source": [
    "## Check-in"
   ]
  },
  {
   "cell_type": "markdown",
   "metadata": {},
   "source": [
    "Do not include this section in your notebook.\n",
    "\n",
    "Name your notebook ```Lastname-A5.ipynb```.  So, for me it would be ```Anderson-A5.ipynb```.  Submit the file using the ```Assignment 5``` link on [Canvas](https://colostate.instructure.com/courses/41327).\n"
   ]
  },
  {
   "cell_type": "code",
   "execution_count": null,
   "metadata": {
    "collapsed": true
   },
   "outputs": [],
   "source": []
  }
 ],
 "metadata": {
  "anaconda-cloud": {},
  "kernelspec": {
   "display_name": "Python [default]",
   "language": "python",
   "name": "python3"
  },
  "language_info": {
   "codemirror_mode": {
    "name": "ipython",
    "version": 3
   },
   "file_extension": ".py",
   "mimetype": "text/x-python",
   "name": "python",
   "nbconvert_exporter": "python",
   "pygments_lexer": "ipython3",
   "version": "3.5.2"
  }
 },
 "nbformat": 4,
 "nbformat_minor": 1
}
