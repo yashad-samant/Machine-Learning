{
 "cells": [
  {
   "cell_type": "markdown",
   "metadata": {},
   "source": [
    "$\\newcommand{\\xv}{\\mathbf{x}}\n",
    "\\newcommand{\\Xv}{\\mathbf{X}}\n",
    "\\newcommand{\\yv}{\\mathbf{y}}\n",
    "\\newcommand{\\zv}{\\mathbf{z}}\n",
    "\\newcommand{\\av}{\\mathbf{a}}\n",
    "\\newcommand{\\Wv}{\\mathbf{W}}\n",
    "\\newcommand{\\wv}{\\mathbf{w}}\n",
    "\\newcommand{\\tv}{\\mathbf{t}}\n",
    "\\newcommand{\\Tv}{\\mathbf{T}}\n",
    "\\newcommand{\\muv}{\\boldsymbol{\\mu}}\n",
    "\\newcommand{\\sigmav}{\\boldsymbol{\\sigma}}\n",
    "\\newcommand{\\phiv}{\\boldsymbol{\\phi}}\n",
    "\\newcommand{\\Phiv}{\\boldsymbol{\\Phi}}\n",
    "\\newcommand{\\Sigmav}{\\boldsymbol{\\Sigma}}\n",
    "\\newcommand{\\Lambdav}{\\boldsymbol{\\Lambda}}\n",
    "\\newcommand{\\half}{\\frac{1}{2}}\n",
    "\\newcommand{\\argmax}[1]{\\underset{#1}{\\operatorname{argmax}}}\n",
    "\\newcommand{\\argmin}[1]{\\underset{#1}{\\operatorname{argmin}}}$"
   ]
  },
  {
   "cell_type": "markdown",
   "metadata": {},
   "source": [
    "# Project Proposal - Classification of Abalone data-set using Fuzzy logic and comparison of fuzzy output with other classification methods"
   ]
  },
  {
   "cell_type": "markdown",
   "metadata": {},
   "source": [
    "Yashad Samant"
   ]
  },
  {
   "cell_type": "markdown",
   "metadata": {},
   "source": [
    "## Introduction"
   ]
  },
  {
   "cell_type": "markdown",
   "metadata": {},
   "source": [
    "### Problem"
   ]
  },
  {
   "cell_type": "markdown",
   "metadata": {},
   "source": [
    "Fuzzy logic was developed in 1965 and since has had a lot of advancements. It has been used in various applications since its development, notably the high speed train in Japan, Sony mini-computers, image processing, automobile control systems, household machines etc. We have learn many classification algorithms in class and also observed in Assignment 3 that non-linear models tend to perform better for classification than the linear ones and hence, I believe due to non-linear behavior, fuzzy systems will perform better than the linear models if not the best. Thus, my basic objective is to determine how good fuzzy logic is on various data sets when compared to state-of-art methods like **Linear Discriminant Analysis** (LDA), **Linear Logistic Regression** (LR) & **Non-Linear Logistic Regression** (NLR). "
   ]
  },
  {
   "cell_type": "markdown",
   "metadata": {},
   "source": [
    "### DATA SET"
   ]
  },
  {
   "cell_type": "markdown",
   "metadata": {},
   "source": [
    "As my objective is to compare the performance of various methods, I will be trying on various data-sets but will start with Abalone data in the UCI repository. While selecting data, I took into consideration number of instances, continuity of values in each attribute (so that I can try different membership functions while implementing fuzzy logic) and number of attributes.\n",
    "\n",
    "Link to the data-set: https://archive.ics.uci.edu/ml/machine-learning-databases/abalone/\n",
    "\n",
    "**Data-set Information**\n",
    "\n",
    " Number of Instances: 4177\n",
    "\n",
    "\n",
    " Number of Attributes: 8\n",
    "\n",
    "\n",
    " Attribute information:\n",
    "\n",
    "   Given is the attribute name, attribute type, the measurement unit and a\n",
    "   brief description.  The number of rings is the value to predict: either\n",
    "   as a continuous value or as a classification problem.\n",
    "\n",
    "    Name\t\tData Type\tMeas.\tDescription\n",
    "    \n",
    "\t----\t\t---------\t-----\t-----------\n",
    "    \n",
    "    Sex\t\t    nominal\t\t\tM, F, and I (infant) \n",
    "    \n",
    "\tLength\t\tcontinuous\t(mm)\tLongest shell measurement\n",
    "    \n",
    "\tDiameter\tcontinuous\t(mm)\tperpendicular to length\n",
    "    \n",
    "\tHeight\t\tcontinuous\t(mm)\twith meat in shell\n",
    "    \n",
    "\tWhole weight\tcontinuous\t(grams)\twhole abalone\n",
    "    \n",
    "\tShucked weight\tcontinuous\t(grams)\tweight of meat\n",
    "    \n",
    "\tViscera weight\tcontinuous\t(grams)\tgut weight (after bleeding)\n",
    "    \n",
    "\tShell weight\tcontinuous\t(grams)\tafter being dried\n",
    "    \n",
    "\tRings\t\tinteger\t\t\t+1.5 gives the age in years\n",
    "\n",
    "   Statistics for numeric domains:\n",
    "\n",
    "\t\tLength\tDiam\tHeight\tWhole\tShucked\tViscera\tShell\tRings\n",
    "\tMin\t0.075\t0.055\t0.000\t0.002\t0.001\t0.001\t0.002\t    1\n",
    "\tMax\t0.815\t0.650\t1.130\t2.826\t1.488\t0.760\t1.005\t   29\n",
    "\tMean\t0.524\t0.408\t0.140\t0.829\t0.359\t0.181\t0.239\t9.934\n",
    "\tSD\t0.120\t0.099\t0.042\t0.490\t0.222\t0.110\t0.139\t3.224\n",
    "\tCorrel\t0.557\t0.575\t0.557\t0.540\t0.421\t0.504\t0.628\t  1.0\n",
    "\n",
    " Missing Attribute Values: None\n",
    "\n",
    "\n",
    " Class Distribution:\n",
    "\n",
    "\tClass\tExamples\n",
    "\t-----\t--------\n",
    "\t1\t1\n",
    "\t2\t1\n",
    "\t3\t15\n",
    "\t4\t57\n",
    "\t5\t115\n",
    "\t6\t259\n",
    "\t7\t391\n",
    "\t8\t568\n",
    "\t9\t689\n",
    "\t10\t634\n",
    "\t11\t487\n",
    "\t12\t267\n",
    "\t13\t203\n",
    "\t14\t126\n",
    "\t15\t103\n",
    "\t16\t67\n",
    "\t17\t58\n",
    "\t18\t42\n",
    "\t19\t32\n",
    "\t20\t26\n",
    "\t21\t14\n",
    "\t22\t6\n",
    "\t23\t9\n",
    "\t24\t2\n",
    "\t25\t1\n",
    "\t26\t1\n",
    "\t27\t2\n",
    "\t29\t1\n",
    "\t-----\t----\n",
    "\tTotal\t4177"
   ]
  },
  {
   "cell_type": "markdown",
   "metadata": {},
   "source": [
    "As the name suggests, all the algorithms are used for classification. I am using these algorithms to achieve two objectives:\n",
    "\n",
    "a) Predict the class (number of rings on the abalone) on the basis of the given data. From the data, we know we have 29 classes and hence we have to divide data to train one model and test it on the test data set.\n",
    "\n",
    "b) Predict the gender of the abalone (small sea shells) on the basis of the other attributes."
   ]
  },
  {
   "cell_type": "markdown",
   "metadata": {},
   "source": [
    "## Methods"
   ]
  },
  {
   "cell_type": "markdown",
   "metadata": {},
   "source": [
    "As mentioned above, the methods I am going to use are Linear Discriminant Analysis, Linear Logistic Regression, Non-Linear Logistic Regression & Fuzzy logic. \n",
    "\n",
    "### LINEAR DISCRIMINANT ANALYSIS\n",
    "\n",
    "Classification becomes more complicated as the number of classes increases. As the number of classes is equal to number of discriminants.\n",
    "\n",
    "For classification, Gaussian or normal distribution function is used because we can vary various parameters and d-dimensions are incorporated in the function. The function is given by:\n",
    "$$\n",
    "p(\\xv) = \\frac{1}{2\\pi^{d/2} |\\Sigmav |^{1/2}}\n",
    "      e^{-\\frac{1}{2} (\\xv-\\muv)^T \\Sigmav^{-1} (\\xv - \\muv)}\n",
    "$$\n",
    "\n",
    "where mean $\\muv$ is a $d$-dimensional column vector and covariance\n",
    "matrix $\\Sigmav$ is a $d\\times d$ symmetric matrix.\n",
    "\n",
    "It also helps us to take care of the masking problem discussed in the lecture.\n",
    "\n",
    "If we define each side of this last inequality as a discriminant function, $\\delta_k(\\xv)$ for\n",
    "Class $k$, then\n",
    "\n",
    "$$\n",
    "      \\begin{align*}\n",
    "        \\delta_k(\\xv) = -\\frac{1}{2} \\ln |\\Sigma_k| -\\frac{1}{2}(\\xv-\\muv_k)^T\n",
    "\\Sigma_k^{-1} (\\xv-\\muv_k) + \\ln P(C=k)\n",
    "      \\end{align*}\n",
    "$$\n",
    "\n",
    "and the class of a new sample $\\xv$ is $\\argmax{k}\\; \\delta_k(\\xv)$.\n",
    "\n",
    "The boundary between Class 1 and Class 2 is the set of points $\\xv$\n",
    "for which $\\delta_2(\\xv) = \\delta_1(\\xv)$. This equation\n",
    "is quadratic in $\\xv$, meaning that the boundary between Class 1 and 2\n",
    "is quadratic.  We have just defined **Quadratic Discriminant Analysis,\n",
    "or QDA**.  \n",
    "\n",
    "\n",
    "QDA is simple but not robust. QDA is function of covariance matrices of each and every discriminant function. If the data is overfitted or in simple terms if two rows of the matrix give the same information or if the rank of the matrix is less than d, then the matrix is termed as singular i.e. the determinant of the matrix is 0 and hence inverse of the matrix is undefined.\n",
    "\n",
    "Thus, to take this into consideration we average out all the covariace matrices into one matrix which is common for all discriminant functions. This gives us the defination of the **Linear Discriminant Analysis or LDA**.\n",
    "\n",
    "Above we showed that if we assume the same covariance matrix, $\\Sigmav$, for each class, where \n",
    "$$\n",
    "\\begin{align*}\n",
    "\\Sigmav = \\sum_{k=1}^K \\frac{N_k}{N} \\Sigmav_k,\n",
    "\\end{align*}\n",
    "$$\n",
    "our discriminant function becomes\n",
    "$$\n",
    "      \\begin{align*}\n",
    "        \\delta_k(\\xv) = \\xv^T \\Sigmav^{-1} \\muv_k - \\frac{1}{2}\\muv_k^T \\Sigmav^{-1} \\muv_k + \\log\n",
    "        P(C=k)\n",
    "      \\end{align*}\n",
    "$$\n",
    "\n",
    "Linear discriminant analysis (LDA) is a generalization of Fisher's linear discriminant, a method used in statistics, pattern recognition and machine learning to find a linear combination of features that characterizes or separates two or more classes of objects or events. The resulting combination may be used as a linear classifier, or, more commonly, for dimensionality reduction before later classification.\n",
    "\n",
    "### LINEAR & NON-LINEAR LOGISTIC REGRESSION\n",
    "\n",
    "In LDA, we used the normal distribution function to remove the masking problem. But using linear and non-linear logistic regression, we can use linear model that predicts $p(C=k|\\xv)$ and avoid the masking problem. \n",
    "\n",
    "To go about this method, our objective is to maximize the data likelihood $$\n",
    "    \\begin{align*}\n",
    "      L(\\wv) & = \\prod_{n=1}^N \\prod_{k=1}^K p(C=k\\,|\\, \\xv_n) ^ {t_{n,k}}\n",
    "    \\end{align*}\n",
    "$$\n",
    "by taking the derivative or the gradient of w and use logarithms to simplify the calculations.\n",
    "\n",
    "$$\n",
    "    \\begin{align*}\n",
    "      LL(\\wv) = \\log L(\\wv) = \\sum_{n=1}^N \\sum_{k=1}^K t_{n,k}  \\log p(C=k\\,|\\,\\xv_n)\n",
    "    \\end{align*}\n",
    "$$\n",
    "\n",
    "In our regressions algorithms, we were supposed to reduce the error by reducing the weights using gradient descent but to maximize weight we have to use gradient ascent.\n",
    "\n",
    "$$\n",
    "    \\begin{align*}\n",
    "        \\wv_j  \\leftarrow \\wv_j + \\alpha \\sum_{n=1}^N\n",
    "        (t_{n,j} - g_j(\\xv_n)) \\xv_n\n",
    "        \\end{align*}\n",
    "$$\n",
    "\n",
    "### FUZZY LOGIC\n",
    "\n",
    "Fuzzy logic is a form of many-valued logic in which the truth values of variables may be any real number between 0 and 1. By contrast, in Boolean logic, the truth values of variables may only be the integer values 0 or 1. Fuzzy logic has been employed to handle the concept of partial truth, where the truth value may range between completely true and completely false. Furthermore, when linguistic variables are used, these degrees may be managed by specific (membership) functions.\n",
    "\n",
    "Since the fuzzy system output is a consensus of all of the inputs and all of the rules, fuzzy logic systems can be well behaved when input values are not available or are not trustworthy. Weightings can be optionally added to each rule in the rulebase and weightings can be used to regulate the degree to which a rule affects the output values. These rule weightings can be based upon the priority, reliability or consistency of each rule. These rule weightings may be static or can be changed dynamically, even based upon the output from other rules.\n",
    "\n",
    "https://en.wikipedia.org/wiki/File:Fuzzy_logic_temperature_en.svg\n",
    "\n",
    "\n",
    "Fuzzify all input values into fuzzy membership functions.\n",
    "Execute all applicable rules in the rulebase to compute the fuzzy output functions.\n",
    "De-fuzzify the fuzzy output functions to get \"crisp\" output values.\n"
   ]
  },
  {
   "cell_type": "markdown",
   "metadata": {},
   "source": [
    "Fuzzy logic is a non-linear classification algorithm which is simple when compared to aforementioned state-of-the-art algorithms. Problem with this algorithm is that we have to define the membership functions on our own and it's not very precise. Thus, the values are close but not accurate. Objective is to check if this algorithm is in par with other classification algorithms irrespective of the discrepancies in defining the membership functions. "
   ]
  },
  {
   "cell_type": "markdown",
   "metadata": {},
   "source": [
    "## INTEREST"
   ]
  },
  {
   "cell_type": "markdown",
   "metadata": {},
   "source": [
    "My interest is not the data-set but the algorithm. I chose the data-set because it was giving me continuous values which gives me the freedom to try any non-linear membership with respect to fuzzy logic.\n",
    "\n",
    "Fuzzy logic is very simple to implement when compared to other classification algorithms but the point is, is it accurate as others? While going through research papers on fuzzy logic, it's evident that in spite of being an Artificial Intelligence algorithm there's no training involved and the algorithm is just defined by membership functions which is defined on the basis of the data but it's manual and there's no training involved. Keeping into mind that we are implementing just the basic form of fuzzy logic for now and where fuzzy logic is developed a lot, so much so that we can train the membership function and define it on the basis of the data. That's why this algorithm interests me as there is a lot to learn in this field.  "
   ]
  },
  {
   "cell_type": "markdown",
   "metadata": {},
   "source": [
    "## Possible Results\n",
    "\n",
    "Intention is to check if fuzzy logic is as good as other classification algorithms. Displaying the confusion matrix which will give us a clear idea of the percentage error for identifying each class."
   ]
  },
  {
   "cell_type": "markdown",
   "metadata": {},
   "source": [
    "## Timeline\n",
    "\n",
    "Week 1 - Implementation of classification algorithms performed in class.\n",
    "\n",
    "Week 2 - Implementation of fuzzy logic.\n",
    "\n",
    "Week 3 - As fuzzy logic is based on hit and trials, perform hit and trials to get the most efficient result.\n",
    "\n",
    "Week 4 - Completing the Jupyter notebook and submission."
   ]
  },
  {
   "cell_type": "markdown",
   "metadata": {},
   "source": [
    "## FUTURE SCOPE"
   ]
  },
  {
   "cell_type": "markdown",
   "metadata": {},
   "source": [
    "If I am far ahead of the timeline metioned above, I wish to implement Adaptive-Neuro Fuzzy Inference System (ANFIS), which involves training of the membership fuction on the basis of the data, i.e. to implement neural networks on the membership functions. It will help us eradicate the hit & trial method implemented on the basic fuzzy system and make it more precise and give accurate results."
   ]
  },
  {
   "cell_type": "markdown",
   "metadata": {},
   "source": [
    "## CITATION"
   ]
  },
  {
   "cell_type": "markdown",
   "metadata": {},
   "source": [
    "http://www.ijcaonline.org/research/volume123/number13/walia-2015-ijca-905635.pdf\n",
    "\n",
    "https://en.wikipedia.org/wiki/Fuzzy_logic\n",
    "\n",
    "https://www.hindawi.com/journals/afs/2013/581879/\n",
    "\n",
    "https://in.mathworks.com/help/fuzzy/anfis.html"
   ]
  },
  {
   "cell_type": "markdown",
   "metadata": {},
   "source": [
    "## Check-in"
   ]
  },
  {
   "cell_type": "markdown",
   "metadata": {},
   "source": [
    "Do not include this section in your notebook.\n",
    "\n",
    "Name your notebook ```Lastname-proposal.ipynb```.  So, for me it would be ```Anderson-Proposal.ipynb```.  Submit the file using the ```Project Proposal``` link on [Canvas](https://colostate.instructure.com/courses/41327).\n",
    "\n",
    "Grading will be based on \n",
    "\n",
    "  * clarity of describing your motivation and methods,\n",
    "  * division of work among team members, if applicable.\n",
    "  \n",
    "If the instructor may ask you to expand your project and resubmit your proposal."
   ]
  }
 ],
 "metadata": {
  "anaconda-cloud": {},
  "kernelspec": {
   "display_name": "Python [conda root]",
   "language": "python",
   "name": "conda-root-py"
  },
  "language_info": {
   "codemirror_mode": {
    "name": "ipython",
    "version": 3
   },
   "file_extension": ".py",
   "mimetype": "text/x-python",
   "name": "python",
   "nbconvert_exporter": "python",
   "pygments_lexer": "ipython3",
   "version": "3.5.2"
  }
 },
 "nbformat": 4,
 "nbformat_minor": 0
}
