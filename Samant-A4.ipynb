{
 "cells": [
  {
   "cell_type": "markdown",
   "metadata": {},
   "source": [
    "$\\newcommand{\\xv}{\\mathbf{x}}\n",
    "\\newcommand{\\Xv}{\\mathbf{X}}\n",
    "\\newcommand{\\yv}{\\mathbf{y}}\n",
    "\\newcommand{\\zv}{\\mathbf{z}}\n",
    "\\newcommand{\\av}{\\mathbf{a}}\n",
    "\\newcommand{\\Wv}{\\mathbf{W}}\n",
    "\\newcommand{\\wv}{\\mathbf{w}}\n",
    "\\newcommand{\\tv}{\\mathbf{t}}\n",
    "\\newcommand{\\Tv}{\\mathbf{T}}\n",
    "\\newcommand{\\muv}{\\boldsymbol{\\mu}}\n",
    "\\newcommand{\\sigmav}{\\boldsymbol{\\sigma}}\n",
    "\\newcommand{\\phiv}{\\boldsymbol{\\phi}}\n",
    "\\newcommand{\\Phiv}{\\boldsymbol{\\Phi}}\n",
    "\\newcommand{\\Sigmav}{\\boldsymbol{\\Sigma}}\n",
    "\\newcommand{\\Lambdav}{\\boldsymbol{\\Lambda}}\n",
    "\\newcommand{\\half}{\\frac{1}{2}}\n",
    "\\newcommand{\\argmax}[1]{\\underset{#1}{\\operatorname{argmax}}}\n",
    "\\newcommand{\\argmin}[1]{\\underset{#1}{\\operatorname{argmin}}}$"
   ]
  },
  {
   "cell_type": "markdown",
   "metadata": {},
   "source": [
    "# Assignment 4: Classification with LDA and Logistic Regression"
   ]
  },
  {
   "cell_type": "markdown",
   "metadata": {},
   "source": [
    "Yashad Samant"
   ]
  },
  {
   "cell_type": "markdown",
   "metadata": {},
   "source": [
    "## Overview"
   ]
  },
  {
   "cell_type": "markdown",
   "metadata": {},
   "source": [
    "The basis of this assignment is to compare the performance of LDA and Linear and Non-Linear Logistic regression methods on two different data sets. Basically, all the three methods are state-of-the-art classification algorithms, hence we test the performance of these algorithms by training the model according to the data sets into different classes using the train data set and test it on test data set and check accuracy."
   ]
  },
  {
   "cell_type": "markdown",
   "metadata": {},
   "source": [
    "### Linear Discriminant Analysis"
   ]
  },
  {
   "cell_type": "markdown",
   "metadata": {},
   "source": [
    "Classification becomes more complicated as the number of classes increases. As the number of classes is equal to number of discriminants.\n",
    "\n",
    "For classification, Gaussian or normal distribution function is used because we can vary various parameters and d-dimensions are incorporated in the function. The function is given by:\n",
    "$$\n",
    "p(\\xv) = \\frac{1}{2\\pi^{d/2} |\\Sigmav |^{1/2}}\n",
    "      e^{-\\frac{1}{2} (\\xv-\\muv)^T \\Sigmav^{-1} (\\xv - \\muv)}\n",
    "$$\n",
    "\n",
    "where mean $\\muv$ is a $d$-dimensional column vector and covariance\n",
    "matrix $\\Sigmav$ is a $d\\times d$ symmetric matrix.\n",
    "\n",
    "It also helps us to take care of the masking problem discussed in the lecture.\n",
    "\n",
    "If we define each side of this last inequality as a discriminant function, $\\delta_k(\\xv)$ for\n",
    "Class $k$, then\n",
    "\n",
    "$$\n",
    "      \\begin{align*}\n",
    "        \\delta_k(\\xv) = -\\frac{1}{2} \\ln |\\Sigma_k| -\\frac{1}{2}(\\xv-\\muv_k)^T\n",
    "\\Sigma_k^{-1} (\\xv-\\muv_k) + \\ln P(C=k)\n",
    "      \\end{align*}\n",
    "$$\n",
    "\n",
    "and the class of a new sample $\\xv$ is $\\argmax{k}\\; \\delta_k(\\xv)$.\n",
    "\n",
    "The boundary between Class 1 and Class 2 is the set of points $\\xv$\n",
    "for which $\\delta_2(\\xv) = \\delta_1(\\xv)$. This equation\n",
    "is quadratic in $\\xv$, meaning that the boundary between Class 1 and 2\n",
    "is quadratic.  We have just defined **Quadratic Discriminant Analysis,\n",
    "or QDA**.  \n",
    "\n",
    "\n",
    "QDA is simple but not robust. QDA is function of covariance matrices of each and every discriminant function. If the data is overfitted or in simple terms if two rows of the matrix give the same information or if the rank of the matrix is less than d, then the matrix is termed as singular i.e. the determinant of the matrix is 0 and hence inverse of the matrix is undefined.\n",
    "\n",
    "Thus, to take this into consideration we average out all the covariace matrices into one matrix which is common for all discriminant functions. This gives us the defination of the **Linear Discriminant Analysis or LDA**.\n",
    "\n",
    "Above we showed that if we assume the same covariance matrix, $\\Sigmav$, for each class, where \n",
    "$$\n",
    "\\begin{align*}\n",
    "\\Sigmav = \\sum_{k=1}^K \\frac{N_k}{N} \\Sigmav_k,\n",
    "\\end{align*}\n",
    "$$\n",
    "our discriminant function becomes\n",
    "$$\n",
    "      \\begin{align*}\n",
    "        \\delta_k(\\xv) = \\xv^T \\Sigmav^{-1} \\muv_k - \\frac{1}{2}\\muv_k^T \\Sigmav^{-1} \\muv_k + \\log\n",
    "        P(C=k)\n",
    "      \\end{align*}\n",
    "$$\n",
    "\n",
    "Linear discriminant analysis (LDA) is a generalization of Fisher's linear discriminant, a method used in statistics, pattern recognition and machine learning to find a linear combination of features that characterizes or separates two or more classes of objects or events. The resulting combination may be used as a linear classifier, or, more commonly, for dimensionality reduction before later classification."
   ]
  },
  {
   "cell_type": "markdown",
   "metadata": {},
   "source": [
    "## Required Code"
   ]
  },
  {
   "cell_type": "markdown",
   "metadata": {},
   "source": [
    "For this assignment, I have used neuralnetworks.py, mlutils.py and qdalda.py discussed in the lecture. "
   ]
  },
  {
   "cell_type": "code",
   "execution_count": 39,
   "metadata": {
    "collapsed": true
   },
   "outputs": [],
   "source": [
    "#Importing libraries\n",
    "import numpy as np\n",
    "import mlutils as ml\n",
    "import neuralnetworks as nn\n",
    "import qdalda as ql\n",
    "import matplotlib.pyplot as plt\n",
    "%matplotlib inline"
   ]
  },
  {
   "cell_type": "code",
   "execution_count": 40,
   "metadata": {
    "collapsed": true
   },
   "outputs": [],
   "source": [
    "def trainLDA(X, T, parameters=None):\n",
    "    lda = ql.LDA()\n",
    "    lda.train(X, T)\n",
    "    return lda\n",
    "\n",
    "def evaluateLDA(model, X, T):\n",
    "    c, prob, d = model.use(X)\n",
    "    error = np.sum(c==T)/X.shape[0] * 100\n",
    "    return error"
   ]
  },
  {
   "cell_type": "markdown",
   "metadata": {},
   "source": [
    "### LDA Python Definition"
   ]
  },
  {
   "cell_type": "markdown",
   "metadata": {},
   "source": [
    "LDA is implementation is obtained using two functions-:\n",
    "\n",
    "a) trainLDA - I have used qdalda.py implemented in the class. It consists of QDA and LDA classes. As we are implementing LDA, we only call for ql.LDA(). LDA class includes the implementation of QDA class as well, as the only change between the two classes is the discriminant function. Hence, we define a new discriminant function for LDA.\n",
    "\n",
    "So when we call for train function, train function from class QDA is called which in turn calls the finishtrain function in LDA, thus returning the model lda.\n",
    "\n",
    "b) evaluateLDA - model is the output formed by trainLDA, std, mean etc which we use in use function in qdalda. Using model.use(), we obtain predicted classes, probabilities and discriminant. Using the formula for percent error, we calculate error as shown in the fuction and return it.  "
   ]
  },
  {
   "cell_type": "markdown",
   "metadata": {
    "collapsed": true
   },
   "source": [
    "### Linear and Non-linear logistic regression"
   ]
  },
  {
   "cell_type": "markdown",
   "metadata": {
    "collapsed": true
   },
   "source": [
    "In LDA, we used the normal distribution function to remove the masking problem. But using linear and non-linear logistic regression, we can use linear model that predicts $p(C=k|\\xv)$ and avoid the masking problem. \n",
    "\n",
    "To go about this method, our objective is to maximize the data likelihood $$\n",
    "    \\begin{align*}\n",
    "      L(\\wv) & = \\prod_{n=1}^N \\prod_{k=1}^K p(C=k\\,|\\, \\xv_n) ^ {t_{n,k}}\n",
    "    \\end{align*}\n",
    "$$\n",
    "by taking the derivative or the gradient of w and use logarithms to simplify the calculations.\n",
    "\n",
    "$$\n",
    "    \\begin{align*}\n",
    "      LL(\\wv) = \\log L(\\wv) = \\sum_{n=1}^N \\sum_{k=1}^K t_{n,k}  \\log p(C=k\\,|\\,\\xv_n)\n",
    "    \\end{align*}\n",
    "$$\n",
    "\n",
    "In our regressions algorithms, we were supposed to reduce the error by reducing the weights using gradient descent but to maximize weight we have to use gradient ascent.\n",
    "\n",
    "$$\n",
    "    \\begin{align*}\n",
    "        \\wv_j  \\leftarrow \\wv_j + \\alpha \\sum_{n=1}^N\n",
    "        (t_{n,j} - g_j(\\xv_n)) \\xv_n\n",
    "        \\end{align*}\n",
    "$$"
   ]
  },
  {
   "cell_type": "code",
   "execution_count": 41,
   "metadata": {
    "collapsed": true
   },
   "outputs": [],
   "source": [
    "def trainNN(X, T, parameters):\n",
    "    classes = len(np.unique(T))\n",
    "    nnet = nn.NeuralNetworkClassifier(X.shape[1], parameters[0], classes)\n",
    "    nnet.train(X, T, nIterations=parameters[1], verbose=False)\n",
    "    return nnet\n",
    "\n",
    "def evaluateNN(model, X, T):\n",
    "    Y = model.use(X)\n",
    "    error = np.sum(Y==T)/X.shape[0] * 100\n",
    "    return error"
   ]
  },
  {
   "cell_type": "markdown",
   "metadata": {},
   "source": [
    "### Neural Network Logistic Regression Python Definitions"
   ]
  },
  {
   "cell_type": "markdown",
   "metadata": {},
   "source": [
    "a) trainNN - Again, this is similar to LDA. Here, instead of class LDA, class NeuralNetworkClassifier is called where all the parameters are initialized. Then, we use train function within the the class to obtain the values for the model. Eg - weights, std etc. We return this model and call it in evaluateNN.\n",
    "\n",
    "b) evaluateNN - Here, it's exactly same as LDA. But instead of three values as in LDA, we obtain just the predicted output Y. We compare it with Target T and calculate the percent error.\n",
    "\n",
    "In neural network, we have two methods, linear and non-linear logistic regression. But the only difference between the two is the number of hidden layers in between the input and output layers. If h = 0, then it's linear logistic regression otherwise non-linear."
   ]
  },
  {
   "cell_type": "code",
   "execution_count": 42,
   "metadata": {
    "collapsed": true
   },
   "outputs": [],
   "source": [
    "def printResults(label,results):\n",
    "    print('{:4s} {:>20s}{:>8s}{:>8s}{:>8s}'.format('Algo','Parameters','TrnAcc','ValAcc','TesAcc'))\n",
    "    print('-------------------------------------------------')\n",
    "    for row in results:\n",
    "        # 20 is expected maximum number of characters in printed parameter value list\n",
    "        print('{:>4s} {:>20s} {:7.2f} {:7.2f} {:7.2f}'.format(label,str(row[0]),*row[1:]))"
   ]
  },
  {
   "cell_type": "markdown",
   "metadata": {},
   "source": [
    "## Data"
   ]
  },
  {
   "cell_type": "markdown",
   "metadata": {},
   "source": [
    "Both the datas are obtained from UCI repository for machine learning. Data is chosen on the basis of the number of instances. I have deliberately chosen data with minimum instances to check if classification methods works well with less amount of data."
   ]
  },
  {
   "cell_type": "markdown",
   "metadata": {},
   "source": [
    "### DATA#1 - FERTILITY"
   ]
  },
  {
   "cell_type": "markdown",
   "metadata": {},
   "source": [
    "Number of Instances: 100\n",
    "\n",
    "Number of Attributes: 10 (including the class attribute)\n",
    "\n",
    "Attribute Information:\n",
    "    Season in which the analysis was performed. 1) winter, 2) spring, 3) Summer, 4) fall. (-1, -0.33, 0.33, 1) \n",
    "\n",
    "    Age at the time of analysis. 18-36 (0, 1) \n",
    "\n",
    "    Childish diseases (ie , chicken pox, measles, mumps, polio) 1) yes, 2) no. (0, 1) \n",
    "\n",
    "    Accident or serious trauma 1) yes, 2) no. (0, 1) \n",
    "\n",
    "    Surgical intervention 1) yes, 2) no. (0, 1) \n",
    "\n",
    "    High fevers in the last year 1) less than three months ago, 2) more than three months ago, 3) no. (-1, 0, 1) \n",
    "\n",
    "    Frequency of alcohol consumption 1) several times a day, 2) every day, 3) several times a week, 4) once a week, 5) hardly     ever or never (0, 1) \n",
    "\n",
    "    Smoking habit 1) never, 2) occasional 3) daily. (-1, 0, 1) \n",
    "\n",
    "    Number of hours spent sitting per day ene-16 (0, 1) \n",
    "\n",
    "    Output: Diagnosis normal (N), altered (O) "
   ]
  },
  {
   "cell_type": "code",
   "execution_count": 43,
   "metadata": {
    "collapsed": false
   },
   "outputs": [
    {
     "name": "stdout",
     "output_type": "stream",
     "text": [
      "X shape: (100, 9)\n",
      "T shape: (100, 1)\n"
     ]
    },
    {
     "data": {
      "image/png": "[encoded data removed]",
      "text/plain": [
       "<matplotlib.figure.Figure at 0x2b6774a26d8>"
      ]
     },
     "metadata": {},
     "output_type": "display_data"
    }
   ],
   "source": [
    "def load_fertility(file_name='fertility.txt'):\n",
    "    fert_convert = lambda x: 0 if b'N' in x else 1\n",
    "    data = np.loadtxt(file_name, delimiter=',', converters={9: fert_convert})\n",
    "\n",
    "    X = data[:,:-1]\n",
    "    T = data[:,-1].reshape( (X.shape[0], 1) )\n",
    "\n",
    "    print(\"X shape: {}\".format(X.shape))\n",
    "    print(\"T shape: {}\".format(T.shape))\n",
    "\n",
    "    names = [ 'Season', 'Age', 'Child-Disease', 'Trauma', 'Surgery', 'Recent Fever', \n",
    "            'Alcohol Consumption', 'Smoking Levels', 'Hours Sitting', 'Diagnosis']\n",
    "\n",
    "    return X, T, names\n",
    "\n",
    "X, T, names = load_fertility()\n",
    "\n",
    "## Visualize fert\n",
    "plt.figure(figsize=(10,10))\n",
    "first_plot_set = range(9)\n",
    "second_plot_set = range(9,X.shape[1])\n",
    "for c in first_plot_set:\n",
    "    plt.subplot(3,3, c+1)\n",
    "    plt.ylim(-0.5, 1.5)\n",
    "    plt.plot(X[:,c], T, 'o', alpha=0.5)\n",
    "    plt.ylabel(\"Rating\")\n",
    "    plt.xlabel(names[c])\n",
    "    "
   ]
  },
  {
   "cell_type": "code",
   "execution_count": 44,
   "metadata": {
    "collapsed": false
   },
   "outputs": [
    {
     "name": "stdout",
     "output_type": "stream",
     "text": [
      "\n",
      "Algo           Parameters  TrnAcc  ValAcc  TesAcc\n",
      "-------------------------------------------------\n",
      "LDA:                 None   72.92   66.21   48.28\n",
      "LDA:                 None   68.37   58.88   66.67\n",
      "LDA:                 None   67.00   59.00   80.00\n",
      "LDA:                 None   67.65   63.26   65.22\n",
      "LDA:                 None   75.00   67.90   57.14\n"
     ]
    },
    {
     "name": "stderr",
     "output_type": "stream",
     "text": [
      "C:\\Users\\Yashad\\Desktop\\Books\\machine learning\\qdalda.py:102: RuntimeWarning: invalid value encountered in log\n",
      "  - 0.5*np.sum(np.dot(Xs,self.sigmaMeanInv) * Xs, axis=1).reshape((-1,1)))\n"
     ]
    }
   ],
   "source": [
    "# LDA\n",
    "results_lda = ml.trainValidateTestKFoldsClassification(trainLDA, evaluateLDA, X, T, [None], nFolds=5, shuffle=False,verbose=False)\n",
    "printResults('LDA:', results_lda)"
   ]
  },
  {
   "cell_type": "code",
   "execution_count": 45,
   "metadata": {
    "collapsed": false
   },
   "outputs": [
    {
     "name": "stdout",
     "output_type": "stream",
     "text": [
      "\n",
      "Algo           Parameters  TrnAcc  ValAcc  TesAcc\n",
      "-------------------------------------------------\n",
      " LR:            [[0], 15]   80.21   70.88   51.72\n",
      " LR:            [[0], 15]   76.53   65.80   70.37\n",
      " LR:            [[0], 15]   71.00   63.49   76.00\n",
      " LR:            [[0], 15]   72.55   65.06   73.91\n",
      " LR:            [[0], 15]   74.04   69.85   66.67\n"
     ]
    }
   ],
   "source": [
    "# Linear Logistic Regression\n",
    "results_lr = ml.trainValidateTestKFoldsClassification(trainNN, evaluateNN, X, T, [ [[0], 15], [[0], 300], [[0], 425], [[0], 500], [[0], 600]], nFolds=5, shuffle=False,verbose=False)\n",
    "printResults('LR:', results_lr)"
   ]
  },
  {
   "cell_type": "code",
   "execution_count": 8,
   "metadata": {
    "collapsed": false
   },
   "outputs": [
    {
     "name": "stdout",
     "output_type": "stream",
     "text": [
      "\n",
      "Algo           Parameters  TrnAcc  ValAcc  TesAcc\n",
      "-------------------------------------------------\n",
      "NLR:           [[5], 325]   98.96   88.46   79.31\n",
      "NLR:           [[7], 100]   98.98   81.94   96.30\n",
      "NLR:           [[7], 100]   99.00   83.72   96.00\n",
      "NLR:           [[6], 200]  100.00   83.84   82.61\n",
      "NLR:           [[7], 100]   99.04   85.68   90.48\n"
     ]
    }
   ],
   "source": [
    "# Non-linear logistic regression\n",
    "results_nlr = ml.trainValidateTestKFoldsClassification(trainNN, evaluateNN, X, T, [ [[3], 575], [[4], 400], [[5], 325], [[6], 200], [[7], 100] ], nFolds=5, shuffle=False,verbose=False)\n",
    "printResults('NLR:', results_nlr)"
   ]
  },
  {
   "cell_type": "code",
   "execution_count": 47,
   "metadata": {
    "collapsed": false
   },
   "outputs": [
    {
     "name": "stdout",
     "output_type": "stream",
     "text": [
      "       0    1\n",
      "    ------------\n",
      " 0 | 72.7 27.3   (88 / 88)\n",
      " 1 | 33.3 66.7   (12 / 12)\n"
     ]
    }
   ],
   "source": [
    "# Confusion matrix\n",
    "lda = ql.LDA()\n",
    "lda.train(X,T)\n",
    "predictedClasses,_,discriminants = lda.use(X)\n",
    "ml.confusionMatrix(T,predictedClasses,np.unique(T)); # <- semi-colon prevents printing of returned result"
   ]
  },
  {
   "cell_type": "markdown",
   "metadata": {},
   "source": [
    "### DATA#2 - TEACHING ASSISSTANT"
   ]
  },
  {
   "cell_type": "code",
   "execution_count": 50,
   "metadata": {
    "collapsed": false
   },
   "outputs": [
    {
     "name": "stdout",
     "output_type": "stream",
     "text": [
      "[[ -2.66203474e-02  -3.55875095e-01]\n",
      " [ -2.76894916e-01   1.47947174e+00]\n",
      " [  6.83547211e-02  -1.05235893e+00]\n",
      " [  1.71661597e-01  -1.80994269e+00]\n",
      " [  7.99918372e-02  -1.13769778e+00]\n",
      " [ -1.49652915e-01   5.46363731e-01]\n",
      " [ -1.20069006e-01   3.29415066e-01]\n",
      " [ -1.76271376e-01   7.41565784e-01]\n",
      " [ -9.16452119e-02   1.20973912e-01]\n",
      " [ -2.49044693e-02  -3.68458200e-01]\n",
      " [ -6.49802814e-02  -7.45689118e-02]\n",
      " [ -1.01247427e-01   1.91390158e-01]\n",
      " [ -6.03379156e-02  -1.08612928e-01]\n",
      " [ -1.74901544e-01   7.31520349e-01]\n",
      " [ -3.58715850e-01   2.07949192e+00]\n",
      " [ -6.36783753e-02  -8.41162233e-02]\n",
      " [ -9.70369194e-02   1.60513101e-01]\n",
      " [ -1.68906975e-01   6.87560173e-01]\n",
      " [  1.73100065e-02  -6.78031023e-01]\n",
      " [ -2.15959140e-01   1.03260939e+00]\n",
      " [ -1.08951517e-01   2.47886815e-01]\n",
      " [ -2.83049285e-01   1.52460378e+00]\n",
      " [  5.01890983e-02  -9.19144363e-01]\n",
      " [ -2.18963925e-01   1.05464448e+00]\n",
      " [ -1.17466981e-01   3.10333555e-01]\n",
      " [ -5.95170793e-02  -1.14632394e-01]\n",
      " [ -2.69639069e-01   1.42626219e+00]\n",
      " [ -4.84330695e-02  -1.95915132e-01]\n",
      " [  3.65945702e-02  -8.19451157e-01]\n",
      " [ -2.75265863e-01   1.46752535e+00]\n",
      " [ -1.46310823e-01   5.21855060e-01]\n",
      " [ -4.66615862e-02  -2.08906010e-01]\n",
      " [ -9.49947701e-02   1.45537339e-01]\n",
      " [  9.21640266e-03  -6.18677928e-01]\n",
      " [  6.98871182e-02  -1.06359651e+00]\n",
      " [  9.65036935e-02  -1.25878473e+00]\n",
      " [  1.75879557e-03  -5.63988810e-01]\n",
      " [  2.74697816e-02  -7.52536041e-01]\n",
      " [ -1.30329100e-01   4.04655757e-01]\n",
      " [  5.79028971e-02  -9.75712221e-01]\n",
      " [  1.44931542e-01  -1.61392228e+00]\n",
      " [  1.47829674e-01  -1.63517525e+00]\n",
      " [ -1.48370314e-01   5.36957991e-01]\n",
      " [  9.82751769e-02  -1.27177561e+00]\n",
      " [  3.92574989e-01  -3.42997423e+00]\n",
      " [  1.70599181e-01  -1.80215164e+00]\n",
      " [ -8.79597286e-04  -5.44640595e-01]\n",
      " [  1.18871014e-02  -6.38263053e-01]\n",
      " [  1.27694664e-01  -1.48751851e+00]\n",
      " [  1.85487904e-02  -6.87115438e-01]\n",
      " [ -4.50072406e-02  -2.21037878e-01]\n",
      " [  2.48926222e-01  -2.37654993e+00]\n",
      " [  1.38668378e-01  -1.56799242e+00]\n",
      " [  9.50756444e-02  -1.24831237e+00]\n",
      " [ -4.99278756e-02  -1.84953221e-01]\n",
      " [ -3.72607563e-02  -2.77845429e-01]\n",
      " [  7.20881698e-02  -1.07973755e+00]\n",
      " [ -1.77863370e-02  -4.20657838e-01]\n",
      " [ -9.06416946e-02   1.13614785e-01]\n",
      " [ -5.44976401e-02  -1.51441615e-01]\n",
      " [ -1.70013555e-01   6.95675097e-01]\n",
      " [  1.35657473e-01  -1.54591244e+00]\n",
      " [  9.72644040e-02  -1.26436327e+00]\n",
      " [  1.59399841e-01  -1.72002314e+00]\n",
      " [  1.49659182e-01  -1.64859165e+00]\n",
      " [  4.59763456e-02  -8.88250843e-01]\n",
      " [ -2.23311480e-02  -3.87329223e-01]\n",
      " [  1.53448260e-01  -1.67637822e+00]\n",
      " [  9.63254565e-02  -1.25747766e+00]\n",
      " [ -1.06601552e-01   2.30653740e-01]\n",
      " [ -2.23311480e-02  -3.87329223e-01]\n",
      " [  3.86238640e-02  -8.34332645e-01]\n",
      " [ -1.62918982e-01   6.43648222e-01]\n",
      " [  1.32343779e-01  -1.52161202e+00]\n",
      " [  6.44365155e-02  -1.02362542e+00]\n",
      " [  3.46902793e-02  -8.05486357e-01]\n",
      " [ -1.63772503e-01   6.49907382e-01]\n",
      " [  2.39160747e-01  -2.30493646e+00]\n",
      " [  3.18370824e-01  -2.88581035e+00]\n",
      " [ -2.25432253e-01   1.10207888e+00]\n",
      " [  5.59027571e-02  -9.61044527e-01]\n",
      " [  1.65155617e-01  -1.76223217e+00]\n",
      " [ -1.69566020e-01   6.92393169e-01]\n",
      " [  1.71512847e-01  -1.80885186e+00]\n",
      " [  5.69418589e-02  -9.68664607e-01]\n",
      " [ -1.18140460e-01   3.15272399e-01]\n",
      " [ -4.16028903e-02  -2.46003113e-01]\n",
      " [  1.13148946e-01  -1.38084991e+00]\n",
      " [  9.57359879e-02  -1.25315489e+00]\n",
      " [  4.44586356e-02  -8.77120970e-01]\n",
      " [  8.80870584e-02  -1.19706274e+00]\n",
      " [ -6.79911873e-02  -5.24889355e-02]\n",
      " [  1.79710589e-02  -6.82878740e-01]\n",
      " [ -2.05566728e-01   9.56398360e-01]\n",
      " [ -2.73646648e-01   1.45565111e+00]\n",
      " [  1.88394753e-02  -6.89247127e-01]\n",
      " [ -4.62820522e-02  -2.11689259e-01]\n",
      " [  2.36590097e-01  -2.28608502e+00]\n",
      " [  7.64145868e-02  -1.11146461e+00]\n",
      " [  1.50133137e-01  -1.65206731e+00]]\n"
     ]
    }
   ],
   "source": [
    "print(discriminants)"
   ]
  },
  {
   "cell_type": "markdown",
   "metadata": {},
   "source": [
    "Number of Instances: 151\n",
    "\n",
    "Number of Attributes: 6 (including the class attribute)\n",
    "\n",
    "Attribute Information:\n",
    "  \n",
    "   Whether of not the TA is a native English speaker (binary)\n",
    "      1=English speaker, 2=non-English speaker\n",
    "      \n",
    "   Course instructor (categorical, 25 categories)\n",
    "   \n",
    "   Course (categorical, 26 categories)\n",
    "   \n",
    "   Summer or regular semester (binary) 1=Summer, 2=Regular\n",
    "   \n",
    "   Class size (numerical)\n",
    "   \n",
    "   Class attribute (categorical) 1=Low, 2=Medium, 3=High\n",
    "\n"
   ]
  },
  {
   "cell_type": "code",
   "execution_count": 51,
   "metadata": {
    "collapsed": false
   },
   "outputs": [
    {
     "name": "stdout",
     "output_type": "stream",
     "text": [
      "[[ 0.]\n",
      " [ 1.]\n",
      " [ 0.]\n",
      " [ 0.]\n",
      " [ 0.]\n",
      " [ 1.]\n",
      " [ 1.]\n",
      " [ 1.]\n",
      " [ 1.]\n",
      " [ 0.]\n",
      " [ 0.]\n",
      " [ 1.]\n",
      " [ 0.]\n",
      " [ 1.]\n",
      " [ 1.]\n",
      " [ 0.]\n",
      " [ 1.]\n",
      " [ 1.]\n",
      " [ 0.]\n",
      " [ 1.]\n",
      " [ 1.]\n",
      " [ 1.]\n",
      " [ 0.]\n",
      " [ 1.]\n",
      " [ 1.]\n",
      " [ 0.]\n",
      " [ 1.]\n",
      " [ 0.]\n",
      " [ 0.]\n",
      " [ 1.]\n",
      " [ 1.]\n",
      " [ 0.]\n",
      " [ 1.]\n",
      " [ 0.]\n",
      " [ 0.]\n",
      " [ 0.]\n",
      " [ 0.]\n",
      " [ 0.]\n",
      " [ 1.]\n",
      " [ 0.]\n",
      " [ 0.]\n",
      " [ 0.]\n",
      " [ 1.]\n",
      " [ 0.]\n",
      " [ 0.]\n",
      " [ 0.]\n",
      " [ 0.]\n",
      " [ 0.]\n",
      " [ 0.]\n",
      " [ 0.]\n",
      " [ 0.]\n",
      " [ 0.]\n",
      " [ 0.]\n",
      " [ 0.]\n",
      " [ 0.]\n",
      " [ 0.]\n",
      " [ 0.]\n",
      " [ 0.]\n",
      " [ 1.]\n",
      " [ 0.]\n",
      " [ 1.]\n",
      " [ 0.]\n",
      " [ 0.]\n",
      " [ 0.]\n",
      " [ 0.]\n",
      " [ 0.]\n",
      " [ 0.]\n",
      " [ 0.]\n",
      " [ 0.]\n",
      " [ 1.]\n",
      " [ 0.]\n",
      " [ 0.]\n",
      " [ 1.]\n",
      " [ 0.]\n",
      " [ 0.]\n",
      " [ 0.]\n",
      " [ 1.]\n",
      " [ 0.]\n",
      " [ 0.]\n",
      " [ 1.]\n",
      " [ 0.]\n",
      " [ 0.]\n",
      " [ 1.]\n",
      " [ 0.]\n",
      " [ 0.]\n",
      " [ 1.]\n",
      " [ 0.]\n",
      " [ 0.]\n",
      " [ 0.]\n",
      " [ 0.]\n",
      " [ 0.]\n",
      " [ 1.]\n",
      " [ 0.]\n",
      " [ 1.]\n",
      " [ 1.]\n",
      " [ 0.]\n",
      " [ 0.]\n",
      " [ 0.]\n",
      " [ 0.]\n",
      " [ 0.]]\n"
     ]
    }
   ],
   "source": [
    "print(predictedClasses)"
   ]
  },
  {
   "cell_type": "code",
   "execution_count": 7,
   "metadata": {
    "collapsed": false
   },
   "outputs": [
    {
     "name": "stdout",
     "output_type": "stream",
     "text": [
      "X shape: (15087, 32)\n",
      "T shape: (15087, 1)\n",
      "[[  2.   3.   4. ...,  31.  32.  33.]\n",
      " [  1.   0.   6. ...,   0.   0.   0.]\n",
      " [  0.   0.   6. ...,   0.   3.   0.]\n",
      " ..., \n",
      " [  0.   0.   0. ...,   0.   2.   0.]\n",
      " [  0.   0.   0. ...,   0.   2.   0.]\n",
      " [  0.   0.   0. ...,   0.   1.   0.]]\n",
      "[[ 1.]\n",
      " [ 7.]\n",
      " [ 3.]\n",
      " ..., \n",
      " [ 0.]\n",
      " [ 0.]\n",
      " [ 0.]]\n"
     ]
    },
    {
     "data": {
      "image/png": "[encoded data removed]",
      "text/plain": [
       "<matplotlib.figure.Figure at 0x28347f47630>"
      ]
     },
     "metadata": {},
     "output_type": "display_data"
    }
   ],
   "source": [
    "def loadtae(file_name='BDpro.txt'):\n",
    "    data = np.loadtxt(file_name, delimiter=',')\n",
    "    \n",
    "    X = data[:,1:-2]\n",
    "    #np.delete(X,0,1)\n",
    "    T = data[:,0].reshape( (X.shape[0], 1) )\n",
    "    \n",
    "    print(\"X shape: {}\".format(X.shape))\n",
    "    print(\"T shape: {}\".format(T.shape))\n",
    "\n",
    "    #names = [ 'English speaker', 'Course Instructor', 'Course', 'Semester', 'class size', 'class']\n",
    "\n",
    "    return X, T\n",
    "\n",
    "X, T = loadtae()\n",
    "print (X)\n",
    "print(T)\n",
    "## Visualize tae\n",
    "plt.figure(figsize=(10,10))\n",
    "first_plot_set = range(5)\n",
    "second_plot_set = range(5,X.shape[1])\n",
    "for c in first_plot_set:\n",
    "    plt.subplot(3,3, c+1)\n",
    "    plt.ylim(-0.5, 1.5)\n",
    "    plt.plot(X[:,c], T, 'o', alpha=0.5)\n",
    "    plt.ylabel(\"Rating\")\n",
    "    #plt.xlabel(names[c])\n",
    "    "
   ]
  },
  {
   "cell_type": "code",
   "execution_count": 8,
   "metadata": {
    "collapsed": false
   },
   "outputs": [
    {
     "ename": "ValueError",
     "evalue": "trainValidateTestKFoldsClassification: Number of samples in each fold for class 34 is 0.",
     "output_type": "error",
     "traceback": [
      "\u001b[0;31m---------------------------------------------------------------------------\u001b[0m",
      "\u001b[0;31mValueError\u001b[0m                                Traceback (most recent call last)",
      "\u001b[0;32m<ipython-input-8-c593257c5084>\u001b[0m in \u001b[0;36m<module>\u001b[0;34m()\u001b[0m\n\u001b[1;32m      1\u001b[0m \u001b[1;31m# LDA\u001b[0m\u001b[1;33m\u001b[0m\u001b[1;33m\u001b[0m\u001b[0m\n\u001b[0;32m----> 2\u001b[0;31m \u001b[0mresults_lda\u001b[0m \u001b[1;33m=\u001b[0m \u001b[0mml\u001b[0m\u001b[1;33m.\u001b[0m\u001b[0mtrainValidateTestKFoldsClassification\u001b[0m\u001b[1;33m(\u001b[0m\u001b[0mtrainLDA\u001b[0m\u001b[1;33m,\u001b[0m \u001b[0mevaluateLDA\u001b[0m\u001b[1;33m,\u001b[0m \u001b[0mX\u001b[0m\u001b[1;33m,\u001b[0m \u001b[0mT\u001b[0m\u001b[1;33m,\u001b[0m \u001b[1;33m[\u001b[0m\u001b[1;32mNone\u001b[0m\u001b[1;33m]\u001b[0m\u001b[1;33m,\u001b[0m \u001b[0mnFolds\u001b[0m\u001b[1;33m=\u001b[0m\u001b[1;36m5\u001b[0m\u001b[1;33m,\u001b[0m \u001b[0mshuffle\u001b[0m\u001b[1;33m=\u001b[0m\u001b[1;32mFalse\u001b[0m\u001b[1;33m,\u001b[0m\u001b[0mverbose\u001b[0m\u001b[1;33m=\u001b[0m\u001b[1;32mFalse\u001b[0m\u001b[1;33m)\u001b[0m\u001b[1;33m\u001b[0m\u001b[0m\n\u001b[0m\u001b[1;32m      3\u001b[0m \u001b[0mprintResults\u001b[0m\u001b[1;33m(\u001b[0m\u001b[1;34m'LDA:'\u001b[0m\u001b[1;33m,\u001b[0m \u001b[0mresults_lda\u001b[0m\u001b[1;33m)\u001b[0m\u001b[1;33m\u001b[0m\u001b[0m\n",
      "\u001b[0;32mC:\\Users\\Yashad\\Desktop\\Books\\machine learning\\mlutils.py\u001b[0m in \u001b[0;36mtrainValidateTestKFoldsClassification\u001b[0;34m(trainf, evaluatef, X, T, parameterSets, nFolds, shuffle, verbose)\u001b[0m\n\u001b[1;32m     36\u001b[0m             \u001b[0mprint\u001b[0m\u001b[1;33m(\u001b[0m\u001b[1;34m'{}-{},'\u001b[0m\u001b[1;33m.\u001b[0m\u001b[0mformat\u001b[0m\u001b[1;33m(\u001b[0m\u001b[0mclasses\u001b[0m\u001b[1;33m[\u001b[0m\u001b[0mk\u001b[0m\u001b[1;33m]\u001b[0m\u001b[1;33m,\u001b[0m\u001b[0mnEach\u001b[0m\u001b[1;33m)\u001b[0m\u001b[1;33m,\u001b[0m\u001b[0mend\u001b[0m\u001b[1;33m=\u001b[0m\u001b[1;34m\" \"\u001b[0m\u001b[1;33m)\u001b[0m \u001b[1;31m#'samples in each of',nFolds,'folds.')\u001b[0m\u001b[1;33m\u001b[0m\u001b[0m\n\u001b[1;32m     37\u001b[0m         \u001b[1;32mif\u001b[0m \u001b[0mnEach\u001b[0m \u001b[1;33m==\u001b[0m \u001b[1;36m0\u001b[0m\u001b[1;33m:\u001b[0m\u001b[1;33m\u001b[0m\u001b[0m\n\u001b[0;32m---> 38\u001b[0;31m            \u001b[1;32mraise\u001b[0m \u001b[0mValueError\u001b[0m\u001b[1;33m(\u001b[0m\u001b[1;34m\"trainValidateTestKFoldsClassification: Number of samples in each fold for class {} is 0.\"\u001b[0m\u001b[1;33m.\u001b[0m\u001b[0mformat\u001b[0m\u001b[1;33m(\u001b[0m\u001b[0mk\u001b[0m\u001b[1;33m)\u001b[0m\u001b[1;33m)\u001b[0m\u001b[1;33m\u001b[0m\u001b[0m\n\u001b[0m\u001b[1;32m     39\u001b[0m         \u001b[0mstartsThisClass\u001b[0m \u001b[1;33m=\u001b[0m \u001b[0mnp\u001b[0m\u001b[1;33m.\u001b[0m\u001b[0marange\u001b[0m\u001b[1;33m(\u001b[0m\u001b[1;36m0\u001b[0m\u001b[1;33m,\u001b[0m\u001b[0mnEach\u001b[0m\u001b[1;33m*\u001b[0m\u001b[0mnFolds\u001b[0m\u001b[1;33m,\u001b[0m\u001b[0mnEach\u001b[0m\u001b[1;33m)\u001b[0m\u001b[1;33m\u001b[0m\u001b[0m\n\u001b[1;32m     40\u001b[0m         \u001b[1;32mif\u001b[0m \u001b[0mk\u001b[0m \u001b[1;33m<\u001b[0m \u001b[0mK\u001b[0m\u001b[1;33m-\u001b[0m\u001b[1;36m1\u001b[0m\u001b[1;33m:\u001b[0m \u001b[1;31m#last class\u001b[0m\u001b[1;33m\u001b[0m\u001b[0m\n",
      "\u001b[0;31mValueError\u001b[0m: trainValidateTestKFoldsClassification: Number of samples in each fold for class 34 is 0."
     ]
    }
   ],
   "source": [
    "# LDA\n",
    "results_lda = ml.trainValidateTestKFoldsClassification(trainLDA, evaluateLDA, X, T, [None], nFolds=5, shuffle=False,verbose=False)\n",
    "printResults('LDA:', results_lda)"
   ]
  },
  {
   "cell_type": "code",
   "execution_count": 12,
   "metadata": {
    "collapsed": false
   },
   "outputs": [
    {
     "ename": "ValueError",
     "evalue": "trainValidateTestKFoldsClassification: Number of samples in each fold for class 2 is 0.",
     "output_type": "error",
     "traceback": [
      "\u001b[0;31m---------------------------------------------------------------------------\u001b[0m",
      "\u001b[0;31mValueError\u001b[0m                                Traceback (most recent call last)",
      "\u001b[0;32m<ipython-input-12-5a63a2a989ab>\u001b[0m in \u001b[0;36m<module>\u001b[0;34m()\u001b[0m\n\u001b[1;32m      1\u001b[0m \u001b[1;31m# Linear Logistic Regression\u001b[0m\u001b[1;33m\u001b[0m\u001b[1;33m\u001b[0m\u001b[0m\n\u001b[0;32m----> 2\u001b[0;31m \u001b[0mresults_lr\u001b[0m \u001b[1;33m=\u001b[0m \u001b[0mml\u001b[0m\u001b[1;33m.\u001b[0m\u001b[0mtrainValidateTestKFoldsClassification\u001b[0m\u001b[1;33m(\u001b[0m\u001b[0mtrainNN\u001b[0m\u001b[1;33m,\u001b[0m \u001b[0mevaluateNN\u001b[0m\u001b[1;33m,\u001b[0m \u001b[0mX\u001b[0m\u001b[1;33m,\u001b[0m \u001b[0mT\u001b[0m\u001b[1;33m,\u001b[0m \u001b[1;33m[\u001b[0m \u001b[1;33m[\u001b[0m\u001b[1;33m[\u001b[0m\u001b[1;36m0\u001b[0m\u001b[1;33m]\u001b[0m\u001b[1;33m,\u001b[0m \u001b[1;36m15\u001b[0m\u001b[1;33m]\u001b[0m\u001b[1;33m,\u001b[0m \u001b[1;33m[\u001b[0m\u001b[1;33m[\u001b[0m\u001b[1;36m0\u001b[0m\u001b[1;33m]\u001b[0m\u001b[1;33m,\u001b[0m \u001b[1;36m300\u001b[0m\u001b[1;33m]\u001b[0m\u001b[1;33m,\u001b[0m \u001b[1;33m[\u001b[0m\u001b[1;33m[\u001b[0m\u001b[1;36m0\u001b[0m\u001b[1;33m]\u001b[0m\u001b[1;33m,\u001b[0m \u001b[1;36m425\u001b[0m\u001b[1;33m]\u001b[0m\u001b[1;33m,\u001b[0m \u001b[1;33m[\u001b[0m\u001b[1;33m[\u001b[0m\u001b[1;36m0\u001b[0m\u001b[1;33m]\u001b[0m\u001b[1;33m,\u001b[0m \u001b[1;36m500\u001b[0m\u001b[1;33m]\u001b[0m\u001b[1;33m,\u001b[0m \u001b[1;33m[\u001b[0m\u001b[1;33m[\u001b[0m\u001b[1;36m0\u001b[0m\u001b[1;33m]\u001b[0m\u001b[1;33m,\u001b[0m \u001b[1;36m600\u001b[0m\u001b[1;33m]\u001b[0m\u001b[1;33m]\u001b[0m\u001b[1;33m,\u001b[0m \u001b[0mnFolds\u001b[0m\u001b[1;33m=\u001b[0m\u001b[1;36m5\u001b[0m\u001b[1;33m,\u001b[0m \u001b[0mshuffle\u001b[0m\u001b[1;33m=\u001b[0m\u001b[1;32mFalse\u001b[0m\u001b[1;33m,\u001b[0m\u001b[0mverbose\u001b[0m\u001b[1;33m=\u001b[0m\u001b[1;32mFalse\u001b[0m\u001b[1;33m)\u001b[0m\u001b[1;33m\u001b[0m\u001b[0m\n\u001b[0m\u001b[1;32m      3\u001b[0m \u001b[0mprintResults\u001b[0m\u001b[1;33m(\u001b[0m\u001b[1;34m'LR:'\u001b[0m\u001b[1;33m,\u001b[0m \u001b[0mresults_lr\u001b[0m\u001b[1;33m)\u001b[0m\u001b[1;33m\u001b[0m\u001b[0m\n",
      "\u001b[0;32mC:\\Users\\Yashad\\Desktop\\Books\\machine learning\\mlutils.py\u001b[0m in \u001b[0;36mtrainValidateTestKFoldsClassification\u001b[0;34m(trainf, evaluatef, X, T, parameterSets, nFolds, shuffle, verbose)\u001b[0m\n\u001b[1;32m     36\u001b[0m             \u001b[0mprint\u001b[0m\u001b[1;33m(\u001b[0m\u001b[1;34m'{}-{},'\u001b[0m\u001b[1;33m.\u001b[0m\u001b[0mformat\u001b[0m\u001b[1;33m(\u001b[0m\u001b[0mclasses\u001b[0m\u001b[1;33m[\u001b[0m\u001b[0mk\u001b[0m\u001b[1;33m]\u001b[0m\u001b[1;33m,\u001b[0m\u001b[0mnEach\u001b[0m\u001b[1;33m)\u001b[0m\u001b[1;33m,\u001b[0m\u001b[0mend\u001b[0m\u001b[1;33m=\u001b[0m\u001b[1;34m\" \"\u001b[0m\u001b[1;33m)\u001b[0m \u001b[1;31m#'samples in each of',nFolds,'folds.')\u001b[0m\u001b[1;33m\u001b[0m\u001b[0m\n\u001b[1;32m     37\u001b[0m         \u001b[1;32mif\u001b[0m \u001b[0mnEach\u001b[0m \u001b[1;33m==\u001b[0m \u001b[1;36m0\u001b[0m\u001b[1;33m:\u001b[0m\u001b[1;33m\u001b[0m\u001b[0m\n\u001b[0;32m---> 38\u001b[0;31m             \u001b[1;32mraise\u001b[0m \u001b[0mValueError\u001b[0m\u001b[1;33m(\u001b[0m\u001b[1;34m\"trainValidateTestKFoldsClassification: Number of samples in each fold for class {} is 0.\"\u001b[0m\u001b[1;33m.\u001b[0m\u001b[0mformat\u001b[0m\u001b[1;33m(\u001b[0m\u001b[0mk\u001b[0m\u001b[1;33m)\u001b[0m\u001b[1;33m)\u001b[0m\u001b[1;33m\u001b[0m\u001b[0m\n\u001b[0m\u001b[1;32m     39\u001b[0m         \u001b[0mstartsThisClass\u001b[0m \u001b[1;33m=\u001b[0m \u001b[0mnp\u001b[0m\u001b[1;33m.\u001b[0m\u001b[0marange\u001b[0m\u001b[1;33m(\u001b[0m\u001b[1;36m0\u001b[0m\u001b[1;33m,\u001b[0m\u001b[0mnEach\u001b[0m\u001b[1;33m*\u001b[0m\u001b[0mnFolds\u001b[0m\u001b[1;33m,\u001b[0m\u001b[0mnEach\u001b[0m\u001b[1;33m)\u001b[0m\u001b[1;33m\u001b[0m\u001b[0m\n\u001b[1;32m     40\u001b[0m         \u001b[1;32mif\u001b[0m \u001b[0mk\u001b[0m \u001b[1;33m<\u001b[0m \u001b[0mK\u001b[0m\u001b[1;33m-\u001b[0m\u001b[1;36m1\u001b[0m\u001b[1;33m:\u001b[0m \u001b[1;31m#last class\u001b[0m\u001b[1;33m\u001b[0m\u001b[0m\n",
      "\u001b[0;31mValueError\u001b[0m: trainValidateTestKFoldsClassification: Number of samples in each fold for class 2 is 0."
     ]
    }
   ],
   "source": [
    "# Linear Logistic Regression\n",
    "results_lr = ml.trainValidateTestKFoldsClassification(trainNN, evaluateNN, X, T, [ [[0], 15], [[0], 300], [[0], 425], [[0], 500], [[0], 600]], nFolds=5, shuffle=False,verbose=False)\n",
    "printResults('LR:', results_lr)"
   ]
  },
  {
   "cell_type": "code",
   "execution_count": 13,
   "metadata": {
    "collapsed": false
   },
   "outputs": [
    {
     "ename": "ValueError",
     "evalue": "trainValidateTestKFoldsClassification: Number of samples in each fold for class 2 is 0.",
     "output_type": "error",
     "traceback": [
      "\u001b[0;31m---------------------------------------------------------------------------\u001b[0m",
      "\u001b[0;31mValueError\u001b[0m                                Traceback (most recent call last)",
      "\u001b[0;32m<ipython-input-13-f5f00faa953a>\u001b[0m in \u001b[0;36m<module>\u001b[0;34m()\u001b[0m\n\u001b[1;32m      1\u001b[0m \u001b[1;31m# Non-linear logistic regression\u001b[0m\u001b[1;33m\u001b[0m\u001b[1;33m\u001b[0m\u001b[0m\n\u001b[0;32m----> 2\u001b[0;31m \u001b[0mresults_nlr\u001b[0m \u001b[1;33m=\u001b[0m \u001b[0mml\u001b[0m\u001b[1;33m.\u001b[0m\u001b[0mtrainValidateTestKFoldsClassification\u001b[0m\u001b[1;33m(\u001b[0m\u001b[0mtrainNN\u001b[0m\u001b[1;33m,\u001b[0m \u001b[0mevaluateNN\u001b[0m\u001b[1;33m,\u001b[0m \u001b[0mX\u001b[0m\u001b[1;33m,\u001b[0m \u001b[0mT\u001b[0m\u001b[1;33m,\u001b[0m \u001b[1;33m[\u001b[0m \u001b[1;33m[\u001b[0m\u001b[1;33m[\u001b[0m\u001b[1;36m3\u001b[0m\u001b[1;33m]\u001b[0m\u001b[1;33m,\u001b[0m \u001b[1;36m575\u001b[0m\u001b[1;33m]\u001b[0m\u001b[1;33m,\u001b[0m \u001b[1;33m[\u001b[0m\u001b[1;33m[\u001b[0m\u001b[1;36m4\u001b[0m\u001b[1;33m]\u001b[0m\u001b[1;33m,\u001b[0m \u001b[1;36m400\u001b[0m\u001b[1;33m]\u001b[0m\u001b[1;33m,\u001b[0m \u001b[1;33m[\u001b[0m\u001b[1;33m[\u001b[0m\u001b[1;36m5\u001b[0m\u001b[1;33m]\u001b[0m\u001b[1;33m,\u001b[0m \u001b[1;36m325\u001b[0m\u001b[1;33m]\u001b[0m\u001b[1;33m,\u001b[0m \u001b[1;33m[\u001b[0m\u001b[1;33m[\u001b[0m\u001b[1;36m6\u001b[0m\u001b[1;33m]\u001b[0m\u001b[1;33m,\u001b[0m \u001b[1;36m200\u001b[0m\u001b[1;33m]\u001b[0m\u001b[1;33m,\u001b[0m \u001b[1;33m[\u001b[0m\u001b[1;33m[\u001b[0m\u001b[1;36m7\u001b[0m\u001b[1;33m]\u001b[0m\u001b[1;33m,\u001b[0m \u001b[1;36m100\u001b[0m\u001b[1;33m]\u001b[0m \u001b[1;33m]\u001b[0m\u001b[1;33m,\u001b[0m \u001b[0mnFolds\u001b[0m\u001b[1;33m=\u001b[0m\u001b[1;36m5\u001b[0m\u001b[1;33m,\u001b[0m \u001b[0mshuffle\u001b[0m\u001b[1;33m=\u001b[0m\u001b[1;32mFalse\u001b[0m\u001b[1;33m,\u001b[0m\u001b[0mverbose\u001b[0m\u001b[1;33m=\u001b[0m\u001b[1;32mFalse\u001b[0m\u001b[1;33m)\u001b[0m\u001b[1;33m\u001b[0m\u001b[0m\n\u001b[0m\u001b[1;32m      3\u001b[0m \u001b[0mprintResults\u001b[0m\u001b[1;33m(\u001b[0m\u001b[1;34m'NLR:'\u001b[0m\u001b[1;33m,\u001b[0m \u001b[0mresults_nlr\u001b[0m\u001b[1;33m)\u001b[0m\u001b[1;33m\u001b[0m\u001b[0m\n",
      "\u001b[0;32mC:\\Users\\Yashad\\Desktop\\Books\\machine learning\\mlutils.py\u001b[0m in \u001b[0;36mtrainValidateTestKFoldsClassification\u001b[0;34m(trainf, evaluatef, X, T, parameterSets, nFolds, shuffle, verbose)\u001b[0m\n\u001b[1;32m     36\u001b[0m             \u001b[0mprint\u001b[0m\u001b[1;33m(\u001b[0m\u001b[1;34m'{}-{},'\u001b[0m\u001b[1;33m.\u001b[0m\u001b[0mformat\u001b[0m\u001b[1;33m(\u001b[0m\u001b[0mclasses\u001b[0m\u001b[1;33m[\u001b[0m\u001b[0mk\u001b[0m\u001b[1;33m]\u001b[0m\u001b[1;33m,\u001b[0m\u001b[0mnEach\u001b[0m\u001b[1;33m)\u001b[0m\u001b[1;33m,\u001b[0m\u001b[0mend\u001b[0m\u001b[1;33m=\u001b[0m\u001b[1;34m\" \"\u001b[0m\u001b[1;33m)\u001b[0m \u001b[1;31m#'samples in each of',nFolds,'folds.')\u001b[0m\u001b[1;33m\u001b[0m\u001b[0m\n\u001b[1;32m     37\u001b[0m         \u001b[1;32mif\u001b[0m \u001b[0mnEach\u001b[0m \u001b[1;33m==\u001b[0m \u001b[1;36m0\u001b[0m\u001b[1;33m:\u001b[0m\u001b[1;33m\u001b[0m\u001b[0m\n\u001b[0;32m---> 38\u001b[0;31m             \u001b[1;32mraise\u001b[0m \u001b[0mValueError\u001b[0m\u001b[1;33m(\u001b[0m\u001b[1;34m\"trainValidateTestKFoldsClassification: Number of samples in each fold for class {} is 0.\"\u001b[0m\u001b[1;33m.\u001b[0m\u001b[0mformat\u001b[0m\u001b[1;33m(\u001b[0m\u001b[0mk\u001b[0m\u001b[1;33m)\u001b[0m\u001b[1;33m)\u001b[0m\u001b[1;33m\u001b[0m\u001b[0m\n\u001b[0m\u001b[1;32m     39\u001b[0m         \u001b[0mstartsThisClass\u001b[0m \u001b[1;33m=\u001b[0m \u001b[0mnp\u001b[0m\u001b[1;33m.\u001b[0m\u001b[0marange\u001b[0m\u001b[1;33m(\u001b[0m\u001b[1;36m0\u001b[0m\u001b[1;33m,\u001b[0m\u001b[0mnEach\u001b[0m\u001b[1;33m*\u001b[0m\u001b[0mnFolds\u001b[0m\u001b[1;33m,\u001b[0m\u001b[0mnEach\u001b[0m\u001b[1;33m)\u001b[0m\u001b[1;33m\u001b[0m\u001b[0m\n\u001b[1;32m     40\u001b[0m         \u001b[1;32mif\u001b[0m \u001b[0mk\u001b[0m \u001b[1;33m<\u001b[0m \u001b[0mK\u001b[0m\u001b[1;33m-\u001b[0m\u001b[1;36m1\u001b[0m\u001b[1;33m:\u001b[0m \u001b[1;31m#last class\u001b[0m\u001b[1;33m\u001b[0m\u001b[0m\n",
      "\u001b[0;31mValueError\u001b[0m: trainValidateTestKFoldsClassification: Number of samples in each fold for class 2 is 0."
     ]
    }
   ],
   "source": [
    "# Non-linear logistic regression\n",
    "results_nlr = ml.trainValidateTestKFoldsClassification(trainNN, evaluateNN, X, T, [ [[3], 575], [[4], 400], [[5], 325], [[6], 200], [[7], 100] ], nFolds=5, shuffle=False,verbose=False)\n",
    "printResults('NLR:', results_nlr)"
   ]
  },
  {
   "cell_type": "code",
   "execution_count": 9,
   "metadata": {
    "collapsed": false
   },
   "outputs": [
    {
     "ename": "ValueError",
     "evalue": "all input arrays must have the same shape",
     "output_type": "error",
     "traceback": [
      "\u001b[0;31m---------------------------------------------------------------------------\u001b[0m",
      "\u001b[0;31mValueError\u001b[0m                                Traceback (most recent call last)",
      "\u001b[0;32m<ipython-input-9-aa67680c4c1a>\u001b[0m in \u001b[0;36m<module>\u001b[0;34m()\u001b[0m\n\u001b[1;32m      1\u001b[0m \u001b[1;31m# Confusion matrix\u001b[0m\u001b[1;33m\u001b[0m\u001b[1;33m\u001b[0m\u001b[0m\n\u001b[1;32m      2\u001b[0m \u001b[0mlda\u001b[0m \u001b[1;33m=\u001b[0m \u001b[0mql\u001b[0m\u001b[1;33m.\u001b[0m\u001b[0mLDA\u001b[0m\u001b[1;33m(\u001b[0m\u001b[1;33m)\u001b[0m\u001b[1;33m\u001b[0m\u001b[0m\n\u001b[0;32m----> 3\u001b[0;31m \u001b[0mlda\u001b[0m\u001b[1;33m.\u001b[0m\u001b[0mtrain\u001b[0m\u001b[1;33m(\u001b[0m\u001b[0mX\u001b[0m\u001b[1;33m,\u001b[0m\u001b[0mT\u001b[0m\u001b[1;33m)\u001b[0m\u001b[1;33m\u001b[0m\u001b[0m\n\u001b[0m\u001b[1;32m      4\u001b[0m \u001b[0mpredictedClasses\u001b[0m\u001b[1;33m,\u001b[0m\u001b[0m_\u001b[0m\u001b[1;33m,\u001b[0m\u001b[0m_\u001b[0m \u001b[1;33m=\u001b[0m \u001b[0mlda\u001b[0m\u001b[1;33m.\u001b[0m\u001b[0muse\u001b[0m\u001b[1;33m(\u001b[0m\u001b[0mX\u001b[0m\u001b[1;33m)\u001b[0m\u001b[1;33m\u001b[0m\u001b[0m\n\u001b[1;32m      5\u001b[0m \u001b[0mml\u001b[0m\u001b[1;33m.\u001b[0m\u001b[0mconfusionMatrix\u001b[0m\u001b[1;33m(\u001b[0m\u001b[0mT\u001b[0m\u001b[1;33m,\u001b[0m\u001b[0mpredictedClasses\u001b[0m\u001b[1;33m,\u001b[0m\u001b[0mnp\u001b[0m\u001b[1;33m.\u001b[0m\u001b[0munique\u001b[0m\u001b[1;33m(\u001b[0m\u001b[0mT\u001b[0m\u001b[1;33m)\u001b[0m\u001b[1;33m)\u001b[0m\u001b[1;33m;\u001b[0m\u001b[1;33m\u001b[0m\u001b[0m\n",
      "\u001b[0;32mC:\\Users\\Yashad\\Desktop\\Books\\machine learning\\qdalda.py\u001b[0m in \u001b[0;36mtrain\u001b[0;34m(self, X, T)\u001b[0m\n\u001b[1;32m     42\u001b[0m             \u001b[0mself\u001b[0m\u001b[1;33m.\u001b[0m\u001b[0msigmaInv\u001b[0m\u001b[1;33m.\u001b[0m\u001b[0mappend\u001b[0m\u001b[1;33m(\u001b[0m \u001b[0mnp\u001b[0m\u001b[1;33m.\u001b[0m\u001b[0mlinalg\u001b[0m\u001b[1;33m.\u001b[0m\u001b[0mpinv\u001b[0m\u001b[1;33m(\u001b[0m\u001b[0mself\u001b[0m\u001b[1;33m.\u001b[0m\u001b[0msigma\u001b[0m\u001b[1;33m[\u001b[0m\u001b[1;33m-\u001b[0m\u001b[1;36m1\u001b[0m\u001b[1;33m]\u001b[0m\u001b[1;33m)\u001b[0m \u001b[1;33m)\u001b[0m    \u001b[1;31m# pinv in case Sigma is singular\u001b[0m\u001b[1;33m\u001b[0m\u001b[0m\n\u001b[1;32m     43\u001b[0m             \u001b[0mself\u001b[0m\u001b[1;33m.\u001b[0m\u001b[0mprior\u001b[0m\u001b[1;33m.\u001b[0m\u001b[0mappend\u001b[0m\u001b[1;33m(\u001b[0m \u001b[0mnp\u001b[0m\u001b[1;33m.\u001b[0m\u001b[0msum\u001b[0m\u001b[1;33m(\u001b[0m\u001b[0mrowsThisClass\u001b[0m\u001b[1;33m)\u001b[0m \u001b[1;33m/\u001b[0m \u001b[0mfloat\u001b[0m\u001b[1;33m(\u001b[0m\u001b[0mnSamples\u001b[0m\u001b[1;33m)\u001b[0m \u001b[1;33m)\u001b[0m\u001b[1;33m\u001b[0m\u001b[0m\n\u001b[0;32m---> 44\u001b[0;31m         \u001b[0mself\u001b[0m\u001b[1;33m.\u001b[0m\u001b[0m_finishTrain\u001b[0m\u001b[1;33m(\u001b[0m\u001b[1;33m)\u001b[0m\u001b[1;33m\u001b[0m\u001b[0m\n\u001b[0m\u001b[1;32m     45\u001b[0m \u001b[1;33m\u001b[0m\u001b[0m\n\u001b[1;32m     46\u001b[0m     \u001b[1;32mdef\u001b[0m \u001b[0m_finishTrain\u001b[0m\u001b[1;33m(\u001b[0m\u001b[0mself\u001b[0m\u001b[1;33m)\u001b[0m\u001b[1;33m:\u001b[0m\u001b[1;33m\u001b[0m\u001b[0m\n",
      "\u001b[0;32mC:\\Users\\Yashad\\Desktop\\Books\\machine learning\\qdalda.py\u001b[0m in \u001b[0;36m_finishTrain\u001b[0;34m(self)\u001b[0m\n\u001b[1;32m     81\u001b[0m \u001b[1;33m\u001b[0m\u001b[0m\n\u001b[1;32m     82\u001b[0m     \u001b[1;32mdef\u001b[0m \u001b[0m_finishTrain\u001b[0m\u001b[1;33m(\u001b[0m\u001b[0mself\u001b[0m\u001b[1;33m)\u001b[0m\u001b[1;33m:\u001b[0m\u001b[1;33m\u001b[0m\u001b[0m\n\u001b[0;32m---> 83\u001b[0;31m         \u001b[0mself\u001b[0m\u001b[1;33m.\u001b[0m\u001b[0msigmaMean\u001b[0m \u001b[1;33m=\u001b[0m \u001b[0mnp\u001b[0m\u001b[1;33m.\u001b[0m\u001b[0msum\u001b[0m\u001b[1;33m(\u001b[0m\u001b[0mnp\u001b[0m\u001b[1;33m.\u001b[0m\u001b[0mstack\u001b[0m\u001b[1;33m(\u001b[0m\u001b[0mself\u001b[0m\u001b[1;33m.\u001b[0m\u001b[0msigma\u001b[0m\u001b[1;33m)\u001b[0m \u001b[1;33m*\u001b[0m \u001b[0mnp\u001b[0m\u001b[1;33m.\u001b[0m\u001b[0marray\u001b[0m\u001b[1;33m(\u001b[0m\u001b[0mself\u001b[0m\u001b[1;33m.\u001b[0m\u001b[0mprior\u001b[0m\u001b[1;33m)\u001b[0m\u001b[1;33m[\u001b[0m\u001b[1;33m:\u001b[0m\u001b[1;33m,\u001b[0m\u001b[0mnp\u001b[0m\u001b[1;33m.\u001b[0m\u001b[0mnewaxis\u001b[0m\u001b[1;33m,\u001b[0m\u001b[0mnp\u001b[0m\u001b[1;33m.\u001b[0m\u001b[0mnewaxis\u001b[0m\u001b[1;33m]\u001b[0m\u001b[1;33m,\u001b[0m \u001b[0maxis\u001b[0m\u001b[1;33m=\u001b[0m\u001b[1;36m0\u001b[0m\u001b[1;33m)\u001b[0m\u001b[1;33m\u001b[0m\u001b[0m\n\u001b[0m\u001b[1;32m     84\u001b[0m         \u001b[0mself\u001b[0m\u001b[1;33m.\u001b[0m\u001b[0msigmaMeanInv\u001b[0m \u001b[1;33m=\u001b[0m \u001b[0mnp\u001b[0m\u001b[1;33m.\u001b[0m\u001b[0mlinalg\u001b[0m\u001b[1;33m.\u001b[0m\u001b[0mpinv\u001b[0m\u001b[1;33m(\u001b[0m\u001b[0mself\u001b[0m\u001b[1;33m.\u001b[0m\u001b[0msigmaMean\u001b[0m\u001b[1;33m)\u001b[0m\u001b[1;33m\u001b[0m\u001b[0m\n\u001b[1;32m     85\u001b[0m         \u001b[1;31m# print(self.sigma)\u001b[0m\u001b[1;33m\u001b[0m\u001b[1;33m\u001b[0m\u001b[0m\n",
      "\u001b[0;32mC:\\Users\\Yashad\\Desktop\\Anaconda3\\lib\\site-packages\\numpy\\core\\shape_base.py\u001b[0m in \u001b[0;36mstack\u001b[0;34m(arrays, axis)\u001b[0m\n\u001b[1;32m    345\u001b[0m     \u001b[0mshapes\u001b[0m \u001b[1;33m=\u001b[0m \u001b[0mset\u001b[0m\u001b[1;33m(\u001b[0m\u001b[0marr\u001b[0m\u001b[1;33m.\u001b[0m\u001b[0mshape\u001b[0m \u001b[1;32mfor\u001b[0m \u001b[0marr\u001b[0m \u001b[1;32min\u001b[0m \u001b[0marrays\u001b[0m\u001b[1;33m)\u001b[0m\u001b[1;33m\u001b[0m\u001b[0m\n\u001b[1;32m    346\u001b[0m     \u001b[1;32mif\u001b[0m \u001b[0mlen\u001b[0m\u001b[1;33m(\u001b[0m\u001b[0mshapes\u001b[0m\u001b[1;33m)\u001b[0m \u001b[1;33m!=\u001b[0m \u001b[1;36m1\u001b[0m\u001b[1;33m:\u001b[0m\u001b[1;33m\u001b[0m\u001b[0m\n\u001b[0;32m--> 347\u001b[0;31m         \u001b[1;32mraise\u001b[0m \u001b[0mValueError\u001b[0m\u001b[1;33m(\u001b[0m\u001b[1;34m'all input arrays must have the same shape'\u001b[0m\u001b[1;33m)\u001b[0m\u001b[1;33m\u001b[0m\u001b[0m\n\u001b[0m\u001b[1;32m    348\u001b[0m \u001b[1;33m\u001b[0m\u001b[0m\n\u001b[1;32m    349\u001b[0m     \u001b[0mresult_ndim\u001b[0m \u001b[1;33m=\u001b[0m \u001b[0marrays\u001b[0m\u001b[1;33m[\u001b[0m\u001b[1;36m0\u001b[0m\u001b[1;33m]\u001b[0m\u001b[1;33m.\u001b[0m\u001b[0mndim\u001b[0m \u001b[1;33m+\u001b[0m \u001b[1;36m1\u001b[0m\u001b[1;33m\u001b[0m\u001b[0m\n",
      "\u001b[0;31mValueError\u001b[0m: all input arrays must have the same shape"
     ]
    }
   ],
   "source": [
    "# Confusion matrix\n",
    "lda = ql.LDA()\n",
    "lda.train(X,T)\n",
    "predictedClasses,_,_ = lda.use(X)\n",
    "ml.confusionMatrix(T,predictedClasses,np.unique(T));"
   ]
  },
  {
   "cell_type": "markdown",
   "metadata": {},
   "source": [
    "## Results\n",
    "\n",
    "1} Explanation of the funtions are given in the respective cells below it.\n",
    "\n",
    "2} While testing on both data sets, we observe that fertility data set tend to show better results as compared to teaching assisstant data set giving 96% accuracy in testing data for one of the folds but we don't get comparable accuracy with the other data set.\n",
    "\n",
    "3} Results based on the observation obtained from the tables formed from the three methods are as follows:\n",
    "  \n",
    "  a) I have implemented the confusion matrix for both the data sets. It is used to get how many values are correctly classified.      On the basis of the confusion matrix printed for both data 1 and data 2 suggests that:\n",
    "     \n",
    "     For Data 1, class 0 is correct 72% of times while class 1 is correct  for about 66%.\n",
    "     \n",
    "     For Data 2, class 1 is correct for 73%, class 2 is correct just 44% and class 3 is correct only  51% times. \n",
    "     \n",
    "   This explains why data 1 was better than data 2 in terms of accuracy, in fact hitting as high as 96% accuracy with NLR.    \n",
    "  \n",
    "  b) LDA - It doesn't have any parameters, hence we cannot distinguish it in terms on parameters.\n",
    "     \n",
    "   LR - For LR, we see we can vary the number of iterations but from the output of both data sets, it is clear that iterations hardly have any effect on the output.\n",
    "     \n",
    "   NLR - For NLR, we see that hidden layers have positive impact on the accuracy but it's not a thumb rule. We see in fertility data that even with 4 hidden layers we have managed to obtain 96% accuracy. Thus, indicating that iterations have some effect on accuracy as well.\n",
    "\n",
    "4}  a) Fertility data set -: Non-linear logistic regression method works best for all the folds. \n",
    "\n",
    "   b) Teaching Assisstant data set -: Non-linear logistic regression method works best for all the folds.  "
   ]
  },
  {
   "cell_type": "markdown",
   "metadata": {},
   "source": [
    "## Grading\n",
    "\n",
    "Your notebook will be run and graded automatically. Download [A4grader.tar](http://www.cs.colostate.edu/~anderson/cs480/notebooks/A4grader.tar)  and extract A4grader.py from it. Run the code in the following cell to demonstrate an example grading session. You should see a perfect score of 80/100 if your functions are defined correctly. \n",
    "\n",
    "The remaining 20% will be based on your writing.  Be sure to explain each function, and details of the results summarized in the above section. "
   ]
  },
  {
   "cell_type": "markdown",
   "metadata": {},
   "source": [
    "## Check-in"
   ]
  },
  {
   "cell_type": "markdown",
   "metadata": {},
   "source": [
    "Do not include this section in your notebook.\n",
    "\n",
    "Name your notebook ```Lastname-A4.ipynb```.  So, for me it would be ```Anderson-A4.ipynb```.  Submit the file using the ```Assignment 4``` link on [Canvas](https://colostate.instructure.com/courses/41327).\n",
    "\n",
    "Grading will be based on \n",
    "\n",
    "  * correct behavior of the required functions,\n",
    "  * readability of the notebook,\n",
    "  * effort in making interesting observations, and in formatting your notebook,\n",
    "  * testing your code on two different classification data sets of your choice."
   ]
  },
  {
   "cell_type": "code",
   "execution_count": 22,
   "metadata": {
    "collapsed": false
   },
   "outputs": [
    {
     "name": "stdout",
     "output_type": "stream",
     "text": [
      "\n",
      "   Testing   model = trainLDA(X,T)\n",
      "             accuracy = evaluateLDA(model,X,T)\n",
      "\n",
      "20/20 points. Accuracy is within 10 of correct value 50%\n",
      "\n",
      "   Testing   model = trainNN(X,T, [[5],100])\n",
      "             accuracy = evaluateNN(model,X,T)\n",
      "\n",
      "30/30 points. Accuracy is within 10 of correct value 100%\n",
      "\n",
      "  Testing\n",
      "    resultsNN = ml.trainValidateTestKFoldsClassification( trainNN,evaluateNN, X,T, \n",
      "                                                          [ [ [0], 5], [ [10], 100] ],\n",
      "                                                          nFolds=3, shuffle=False,verbose=False)\n",
      "    bestParms = [row[0] for row in resultsNN]\n",
      "\n",
      "\n",
      "30/30 points. You correctly find the best parameters to be [[10],100] for each fold.\n",
      "\n",
      "C:\\Users\\Yashad\\Desktop\\Books\\machine learning CODING GRADE is 80/80\n",
      "\n",
      "C:\\Users\\Yashad\\Desktop\\Books\\machine learning WRITING GRADE is ??/20\n",
      "\n",
      "C:\\Users\\Yashad\\Desktop\\Books\\machine learning FINAL GRADE is ??/100\n",
      "\n",
      "Remember, this python script is just an example of how your code will be graded.\n",
      "Do not be satisfied with an 80% from running this script.  Write and run additional\n",
      "tests of your own design.\n"
     ]
    }
   ],
   "source": [
    "%run -i A4grader.py"
   ]
  },
  {
   "cell_type": "code",
   "execution_count": null,
   "metadata": {
    "collapsed": true
   },
   "outputs": [],
   "source": []
  }
 ],
 "metadata": {
  "anaconda-cloud": {},
  "kernelspec": {
   "display_name": "Python [conda root]",
   "language": "python",
   "name": "conda-root-py"
  },
  "language_info": {
   "codemirror_mode": {
    "name": "ipython",
    "version": 3
   },
   "file_extension": ".py",
   "mimetype": "text/x-python",
   "name": "python",
   "nbconvert_exporter": "python",
   "pygments_lexer": "ipython3",
   "version": "3.5.2"
  }
 },
 "nbformat": 4,
 "nbformat_minor": 0
}
